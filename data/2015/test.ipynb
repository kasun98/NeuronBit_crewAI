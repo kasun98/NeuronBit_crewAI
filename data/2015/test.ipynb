{
 "cells": [
  {
   "cell_type": "code",
   "execution_count": null,
   "metadata": {},
   "outputs": [],
   "source": [
    "btc['btc_change'] = btc['btc_change'].str.replace('%', '')\n",
    "\n",
    "cols = ['btc_price', 'btc_open', 'btc_high', 'btc_low']\n",
    "\n",
    "for i in range(len(cols)):\n",
    "    btc[cols[i]] = btc[cols[i]].str.replace(',', '')\n",
    "\n",
    "btc['btc_price'] = pd.to_numeric(btc['btc_price'], errors='coerce')\n",
    "btc['btc_open'] = pd.to_numeric(btc['btc_open'], errors='coerce')\n",
    "btc['btc_high'] = pd.to_numeric(btc['btc_high'], errors='coerce')\n",
    "btc['btc_low'] = pd.to_numeric(btc['btc_low'], errors='coerce')\n",
    "btc['btc_change'] = pd.to_numeric(btc['btc_change'], errors='coerce')\n",
    "btc.dtypes\n"
   ]
  },
  {
   "cell_type": "code",
   "execution_count": 2,
   "metadata": {},
   "outputs": [
    {
     "ename": "ModuleNotFoundError",
     "evalue": "No module named 'src'",
     "output_type": "error",
     "traceback": [
      "\u001b[1;31m---------------------------------------------------------------------------\u001b[0m",
      "\u001b[1;31mModuleNotFoundError\u001b[0m                       Traceback (most recent call last)",
      "Cell \u001b[1;32mIn[2], line 3\u001b[0m\n\u001b[0;32m      1\u001b[0m \u001b[38;5;28;01mimport\u001b[39;00m \u001b[38;5;21;01mos\u001b[39;00m\n\u001b[0;32m      2\u001b[0m \u001b[38;5;28;01mimport\u001b[39;00m \u001b[38;5;21;01msys\u001b[39;00m\n\u001b[1;32m----> 3\u001b[0m \u001b[38;5;28;01mfrom\u001b[39;00m \u001b[38;5;21;01msrc\u001b[39;00m\u001b[38;5;21;01m.\u001b[39;00m\u001b[38;5;21;01mutils\u001b[39;00m \u001b[38;5;28;01mimport\u001b[39;00m columns_of_interests\n\u001b[0;32m      5\u001b[0m \u001b[38;5;28mprint\u001b[39m(columns_of_interests())\n",
      "\u001b[1;31mModuleNotFoundError\u001b[0m: No module named 'src'"
     ]
    }
   ],
   "source": [
    "import os\n",
    "import sys\n",
    "from src.utils import columns_of_interests\n",
    "\n",
    "print(columns_of_interests())"
   ]
  },
  {
   "cell_type": "code",
   "execution_count": null,
   "metadata": {},
   "outputs": [],
   "source": []
  }
 ],
 "metadata": {
  "kernelspec": {
   "display_name": "Python 3",
   "language": "python",
   "name": "python3"
  },
  "language_info": {
   "codemirror_mode": {
    "name": "ipython",
    "version": 3
   },
   "file_extension": ".py",
   "mimetype": "text/x-python",
   "name": "python",
   "nbconvert_exporter": "python",
   "pygments_lexer": "ipython3",
   "version": "3.8.19"
  }
 },
 "nbformat": 4,
 "nbformat_minor": 2
}
