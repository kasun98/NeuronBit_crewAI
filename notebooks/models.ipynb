{
 "cells": [
  {
   "cell_type": "markdown",
   "metadata": {},
   "source": [
    "# Libraries"
   ]
  },
  {
   "cell_type": "code",
   "execution_count": 1,
   "metadata": {},
   "outputs": [],
   "source": [
    "import os\n",
    "import sys\n",
    "import csv\n",
    "import requests\n",
    "from bs4 import BeautifulSoup\n",
    "import json\n",
    "import datetime\n",
    "from datetime import date, timedelta\n",
    "import pandas as pd\n",
    "import numpy as np\n",
    "import seaborn as sns\n",
    "import plotly.express as px\n",
    "import plotly.graph_objects as go\n",
    "import matplotlib.pyplot as plt\n",
    "\n",
    "import tensorflow as tf\n",
    "from tensorflow.keras import layers, models\n",
    "from keras.optimizers import Adam\n",
    "from keras.models import Sequential\n",
    "from keras.layers import LSTM, Dense\n",
    "from tensorflow.keras.callbacks import Callback\n",
    "from sklearn.model_selection import train_test_split\n",
    "from sklearn.metrics import precision_score, recall_score, f1_score\n",
    "from sklearn.metrics import confusion_matrix\n",
    "from tensorflow.keras.layers import Dense, LeakyReLU, BatchNormalization\n",
    "from tensorflow.keras.optimizers import Adam\n",
    "from tensorflow.keras import regularizers\n",
    "from sklearn.metrics import accuracy_score, confusion_matrix, classification_report, roc_auc_score\n"
   ]
  },
  {
   "cell_type": "markdown",
   "metadata": {},
   "source": [
    "# Data Loading"
   ]
  },
  {
   "cell_type": "code",
   "execution_count": 2,
   "metadata": {},
   "outputs": [
    {
     "data": {
      "text/html": [
       "<div>\n",
       "<style scoped>\n",
       "    .dataframe tbody tr th:only-of-type {\n",
       "        vertical-align: middle;\n",
       "    }\n",
       "\n",
       "    .dataframe tbody tr th {\n",
       "        vertical-align: top;\n",
       "    }\n",
       "\n",
       "    .dataframe thead th {\n",
       "        text-align: right;\n",
       "    }\n",
       "</style>\n",
       "<table border=\"1\" class=\"dataframe\">\n",
       "  <thead>\n",
       "    <tr style=\"text-align: right;\">\n",
       "      <th></th>\n",
       "      <th>btc_price</th>\n",
       "      <th>btc_open</th>\n",
       "      <th>btc_high</th>\n",
       "      <th>btc_low</th>\n",
       "      <th>btc_change</th>\n",
       "      <th>gold_price</th>\n",
       "      <th>gold_open</th>\n",
       "      <th>gold_high</th>\n",
       "      <th>gold_low</th>\n",
       "      <th>gold_change</th>\n",
       "      <th>...</th>\n",
       "      <th>us30_high</th>\n",
       "      <th>us30_low</th>\n",
       "      <th>us30_change</th>\n",
       "      <th>usidx_price</th>\n",
       "      <th>usidx_open</th>\n",
       "      <th>usidx_high</th>\n",
       "      <th>usidx_low</th>\n",
       "      <th>usidx_change</th>\n",
       "      <th>btc_rsi</th>\n",
       "      <th>direction</th>\n",
       "    </tr>\n",
       "    <tr>\n",
       "      <th>Date</th>\n",
       "      <th></th>\n",
       "      <th></th>\n",
       "      <th></th>\n",
       "      <th></th>\n",
       "      <th></th>\n",
       "      <th></th>\n",
       "      <th></th>\n",
       "      <th></th>\n",
       "      <th></th>\n",
       "      <th></th>\n",
       "      <th></th>\n",
       "      <th></th>\n",
       "      <th></th>\n",
       "      <th></th>\n",
       "      <th></th>\n",
       "      <th></th>\n",
       "      <th></th>\n",
       "      <th></th>\n",
       "      <th></th>\n",
       "      <th></th>\n",
       "      <th></th>\n",
       "    </tr>\n",
       "  </thead>\n",
       "  <tbody>\n",
       "    <tr>\n",
       "      <th>2015-01-01</th>\n",
       "      <td>313.9</td>\n",
       "      <td>317.5</td>\n",
       "      <td>317.5</td>\n",
       "      <td>312.9</td>\n",
       "      <td>-0.99</td>\n",
       "      <td>1186.2</td>\n",
       "      <td>1184.0</td>\n",
       "      <td>1194.9</td>\n",
       "      <td>1167.3</td>\n",
       "      <td>0.18</td>\n",
       "      <td>...</td>\n",
       "      <td>17825.5</td>\n",
       "      <td>17757.0</td>\n",
       "      <td>-0.01</td>\n",
       "      <td>91.383</td>\n",
       "      <td>90.81</td>\n",
       "      <td>91.49</td>\n",
       "      <td>90.80</td>\n",
       "      <td>0.81</td>\n",
       "      <td>21.173357</td>\n",
       "      <td>0</td>\n",
       "    </tr>\n",
       "    <tr>\n",
       "      <th>2015-01-02</th>\n",
       "      <td>315.1</td>\n",
       "      <td>313.6</td>\n",
       "      <td>316.0</td>\n",
       "      <td>313.0</td>\n",
       "      <td>0.40</td>\n",
       "      <td>1186.2</td>\n",
       "      <td>1184.0</td>\n",
       "      <td>1194.9</td>\n",
       "      <td>1167.3</td>\n",
       "      <td>0.18</td>\n",
       "      <td>...</td>\n",
       "      <td>17951.8</td>\n",
       "      <td>17731.3</td>\n",
       "      <td>0.06</td>\n",
       "      <td>91.383</td>\n",
       "      <td>90.81</td>\n",
       "      <td>91.49</td>\n",
       "      <td>90.80</td>\n",
       "      <td>0.81</td>\n",
       "      <td>21.173357</td>\n",
       "      <td>1</td>\n",
       "    </tr>\n",
       "    <tr>\n",
       "      <th>2015-01-03</th>\n",
       "      <td>282.0</td>\n",
       "      <td>314.8</td>\n",
       "      <td>314.8</td>\n",
       "      <td>282.0</td>\n",
       "      <td>-10.51</td>\n",
       "      <td>1186.2</td>\n",
       "      <td>1184.0</td>\n",
       "      <td>1194.9</td>\n",
       "      <td>1167.3</td>\n",
       "      <td>0.18</td>\n",
       "      <td>...</td>\n",
       "      <td>17951.8</td>\n",
       "      <td>17731.3</td>\n",
       "      <td>0.06</td>\n",
       "      <td>91.383</td>\n",
       "      <td>90.81</td>\n",
       "      <td>91.49</td>\n",
       "      <td>90.80</td>\n",
       "      <td>0.81</td>\n",
       "      <td>21.173357</td>\n",
       "      <td>0</td>\n",
       "    </tr>\n",
       "    <tr>\n",
       "      <th>2015-01-04</th>\n",
       "      <td>258.8</td>\n",
       "      <td>282.0</td>\n",
       "      <td>288.9</td>\n",
       "      <td>258.8</td>\n",
       "      <td>-8.23</td>\n",
       "      <td>1186.2</td>\n",
       "      <td>1184.0</td>\n",
       "      <td>1194.9</td>\n",
       "      <td>1167.3</td>\n",
       "      <td>0.18</td>\n",
       "      <td>...</td>\n",
       "      <td>17951.8</td>\n",
       "      <td>17731.3</td>\n",
       "      <td>0.06</td>\n",
       "      <td>91.383</td>\n",
       "      <td>90.81</td>\n",
       "      <td>91.49</td>\n",
       "      <td>90.80</td>\n",
       "      <td>0.81</td>\n",
       "      <td>21.173357</td>\n",
       "      <td>0</td>\n",
       "    </tr>\n",
       "    <tr>\n",
       "      <th>2015-01-05</th>\n",
       "      <td>273.2</td>\n",
       "      <td>261.0</td>\n",
       "      <td>276.5</td>\n",
       "      <td>260.5</td>\n",
       "      <td>5.57</td>\n",
       "      <td>1204.0</td>\n",
       "      <td>1187.8</td>\n",
       "      <td>1207.5</td>\n",
       "      <td>1177.8</td>\n",
       "      <td>1.50</td>\n",
       "      <td>...</td>\n",
       "      <td>17821.3</td>\n",
       "      <td>17475.9</td>\n",
       "      <td>-1.86</td>\n",
       "      <td>91.622</td>\n",
       "      <td>91.73</td>\n",
       "      <td>92.05</td>\n",
       "      <td>91.55</td>\n",
       "      <td>0.26</td>\n",
       "      <td>21.173357</td>\n",
       "      <td>1</td>\n",
       "    </tr>\n",
       "  </tbody>\n",
       "</table>\n",
       "<p>5 rows × 27 columns</p>\n",
       "</div>"
      ],
      "text/plain": [
       "            btc_price  btc_open  btc_high  btc_low  btc_change  gold_price  \\\n",
       "Date                                                                         \n",
       "2015-01-01      313.9     317.5     317.5    312.9       -0.99      1186.2   \n",
       "2015-01-02      315.1     313.6     316.0    313.0        0.40      1186.2   \n",
       "2015-01-03      282.0     314.8     314.8    282.0      -10.51      1186.2   \n",
       "2015-01-04      258.8     282.0     288.9    258.8       -8.23      1186.2   \n",
       "2015-01-05      273.2     261.0     276.5    260.5        5.57      1204.0   \n",
       "\n",
       "            gold_open  gold_high  gold_low  gold_change  ...  us30_high  \\\n",
       "Date                                                     ...              \n",
       "2015-01-01     1184.0     1194.9    1167.3         0.18  ...    17825.5   \n",
       "2015-01-02     1184.0     1194.9    1167.3         0.18  ...    17951.8   \n",
       "2015-01-03     1184.0     1194.9    1167.3         0.18  ...    17951.8   \n",
       "2015-01-04     1184.0     1194.9    1167.3         0.18  ...    17951.8   \n",
       "2015-01-05     1187.8     1207.5    1177.8         1.50  ...    17821.3   \n",
       "\n",
       "            us30_low  us30_change  usidx_price  usidx_open  usidx_high  \\\n",
       "Date                                                                     \n",
       "2015-01-01   17757.0        -0.01       91.383       90.81       91.49   \n",
       "2015-01-02   17731.3         0.06       91.383       90.81       91.49   \n",
       "2015-01-03   17731.3         0.06       91.383       90.81       91.49   \n",
       "2015-01-04   17731.3         0.06       91.383       90.81       91.49   \n",
       "2015-01-05   17475.9        -1.86       91.622       91.73       92.05   \n",
       "\n",
       "            usidx_low  usidx_change    btc_rsi  direction  \n",
       "Date                                                       \n",
       "2015-01-01      90.80          0.81  21.173357          0  \n",
       "2015-01-02      90.80          0.81  21.173357          1  \n",
       "2015-01-03      90.80          0.81  21.173357          0  \n",
       "2015-01-04      90.80          0.81  21.173357          0  \n",
       "2015-01-05      91.55          0.26  21.173357          1  \n",
       "\n",
       "[5 rows x 27 columns]"
      ]
     },
     "execution_count": 2,
     "metadata": {},
     "output_type": "execute_result"
    }
   ],
   "source": [
    "df = pd.read_csv('../data/processed_datav2.csv')\n",
    "df.set_index('Date', inplace=True)\n",
    "df.head()"
   ]
  },
  {
   "cell_type": "code",
   "execution_count": 3,
   "metadata": {},
   "outputs": [
    {
     "data": {
      "text/plain": [
       "<Axes: xlabel='direction'>"
      ]
     },
     "execution_count": 3,
     "metadata": {},
     "output_type": "execute_result"
    },
    {
     "data": {
      "image/png": "[encoded data removed]",
      "text/plain": [
       "<Figure size 640x480 with 1 Axes>"
      ]
     },
     "metadata": {},
     "output_type": "display_data"
    }
   ],
   "source": [
    "df['direction'].value_counts().plot(kind='bar')"
   ]
  },
  {
   "cell_type": "markdown",
   "metadata": {},
   "source": [
    "# Model Training"
   ]
  },
  {
   "cell_type": "code",
   "execution_count": 4,
   "metadata": {},
   "outputs": [],
   "source": [
    "features = df[['btc_price', 'btc_open', 'btc_high', 'btc_low', 'btc_change', 'gold_price', 'gold_open', 'gold_high', 'gold_low', 'gold_change', \n",
    "               'sp_price', 'sp_open', 'sp_high', 'sp_low', 'sp_change', 'us30_price', 'us30_open', 'us30_high', 'us30_low', 'us30_change', \n",
    "               'usidx_price', 'usidx_open', 'usidx_high', 'usidx_low', 'usidx_change', 'btc_rsi']].values\n",
    "target = df['direction'].values\n",
    "\n",
    "\n",
    "X_train, X_test, y_train, y_test = train_test_split(features, target, test_size=0.3, random_state=42)\n",
    "\n"
   ]
  },
  {
   "cell_type": "code",
   "execution_count": 5,
   "metadata": {},
   "outputs": [
    {
     "data": {
      "text/plain": [
       "array([ 3.15100000e+02,  3.13600000e+02,  3.16000000e+02,  3.13000000e+02,\n",
       "        4.00000000e-01,  1.18620000e+03,  1.18400000e+03,  1.19490000e+03,\n",
       "        1.16730000e+03,  1.80000000e-01,  2.05820000e+03,  2.05890000e+03,\n",
       "        2.07240000e+03,  2.04600000e+03, -3.00000000e-02,  1.78330000e+04,\n",
       "        1.78231000e+04,  1.79518000e+04,  1.77313000e+04,  6.00000000e-02,\n",
       "        9.13830000e+01,  9.08100000e+01,  9.14900000e+01,  9.08000000e+01,\n",
       "        8.10000000e-01,  2.11733569e+01])"
      ]
     },
     "execution_count": 5,
     "metadata": {},
     "output_type": "execute_result"
    }
   ],
   "source": [
    "features[1]"
   ]
  },
  {
   "cell_type": "code",
   "execution_count": 6,
   "metadata": {},
   "outputs": [
    {
     "data": {
      "text/plain": [
       "array([ 1.64590000e+04,  1.65190000e+04,  1.66970000e+04,  1.63900000e+04,\n",
       "       -3.60000000e-01,  1.75400000e+03,  1.75100000e+03,  1.76120000e+03,\n",
       "        1.74590000e+03,  0.00000000e+00,  4.02610000e+03,  4.02330000e+03,\n",
       "        4.03400000e+03,  4.02080000e+03, -3.00000000e-02,  3.43685000e+04,\n",
       "        3.42525000e+04,  3.43830000e+04,  3.41940000e+04,  3.40000000e-01,\n",
       "        1.05917000e+02,  1.05845000e+02,  1.06345000e+02,  1.05605000e+02,\n",
       "       -5.00000000e-02,  4.51121573e+01])"
      ]
     },
     "execution_count": 6,
     "metadata": {},
     "output_type": "execute_result"
    }
   ],
   "source": [
    "X_train[1]"
   ]
  },
  {
   "cell_type": "code",
   "execution_count": 7,
   "metadata": {},
   "outputs": [],
   "source": [
    "class PrintEpochProgress(Callback):\n",
    "    def __init__(self, print_epochs):\n",
    "        super(PrintEpochProgress, self).__init__()\n",
    "        self.print_epochs = print_epochs\n",
    "\n",
    "    def on_epoch_end(self, epoch, logs=None):\n",
    "        if (epoch + 1) % self.print_epochs == 0:\n",
    "          val_loss = logs.get('val_loss')\n",
    "          val_accuracy = logs.get('val_accuracy')\n",
    "          print(f\"Epoch {epoch + 1}/{self.params['epochs']}, Loss: {logs['loss']}, Accuracy: {logs['accuracy']}, Val Loss: {val_loss}, Val Accuracy: {val_accuracy}\")"
   ]
  },
  {
   "cell_type": "code",
   "execution_count": 8,
   "metadata": {},
   "outputs": [],
   "source": [
    "import tensorflow.keras.models as models\n",
    "import tensorflow.keras.layers as layers\n",
    "from tensorflow.keras.utils import plot_model"
   ]
  },
  {
   "cell_type": "code",
   "execution_count": 9,
   "metadata": {},
   "outputs": [
    {
     "name": "stdout",
     "output_type": "stream",
     "text": [
      "Model: \"sequential\"\n",
      "_________________________________________________________________\n",
      " Layer (type)                Output Shape              Param #   \n",
      "=================================================================\n",
      " flatten (Flatten)           (None, 26)                0         \n",
      "                                                                 \n",
      " dense (Dense)               (None, 256)               6912      \n",
      "                                                                 \n",
      " leaky_re_lu (LeakyReLU)     (None, 256)               0         \n",
      "                                                                 \n",
      " dense_1 (Dense)             (None, 128)               32896     \n",
      "                                                                 \n",
      " leaky_re_lu_1 (LeakyReLU)   (None, 128)               0         \n",
      "                                                                 \n",
      " dense_2 (Dense)             (None, 64)                8256      \n",
      "                                                                 \n",
      " leaky_re_lu_2 (LeakyReLU)   (None, 64)                0         \n",
      "                                                                 \n",
      " dense_3 (Dense)             (None, 32)                2080      \n",
      "                                                                 \n",
      " leaky_re_lu_3 (LeakyReLU)   (None, 32)                0         \n",
      "                                                                 \n",
      " dense_4 (Dense)             (None, 16)                528       \n",
      "                                                                 \n",
      " leaky_re_lu_4 (LeakyReLU)   (None, 16)                0         \n",
      "                                                                 \n",
      " dense_5 (Dense)             (None, 8)                 136       \n",
      "                                                                 \n",
      " leaky_re_lu_5 (LeakyReLU)   (None, 8)                 0         \n",
      "                                                                 \n",
      " dense_6 (Dense)             (None, 1)                 9         \n",
      "                                                                 \n",
      "=================================================================\n",
      "Total params: 50817 (198.50 KB)\n",
      "Trainable params: 50817 (198.50 KB)\n",
      "Non-trainable params: 0 (0.00 Byte)\n",
      "_________________________________________________________________\n"
     ]
    }
   ],
   "source": [
    "learning_rate = 0.0001\n",
    "optimizer = Adam(learning_rate=learning_rate)\n",
    "\n",
    "\n",
    "\n",
    "# Define the DNN model\n",
    "def build_dnn(input_shape):\n",
    "    model = models.Sequential([\n",
    "        layers.Flatten(input_shape=input_shape),\n",
    "        layers.Dense(256, activation='relu'),\n",
    "        layers.LeakyReLU(alpha=0.1),\n",
    "        layers.Dense(128, activation='relu'),\n",
    "        layers.LeakyReLU(alpha=0.1),\n",
    "        layers.Dense(64, activation='relu'),\n",
    "        layers.LeakyReLU(alpha=0.1),\n",
    "        layers.Dense(32, activation='relu'),\n",
    "        layers.LeakyReLU(alpha=0.1),\n",
    "        layers.Dense(16, activation='relu'),\n",
    "        layers.LeakyReLU(alpha=0.1),\n",
    "        layers.Dense(8, activation='relu'),\n",
    "        layers.LeakyReLU(alpha=0.1),\n",
    "        layers.Dense(1, activation='sigmoid')\n",
    "    ])\n",
    "    return model\n",
    "\n",
    "# Build the model\n",
    "input_shape = X_train.shape[1:]\n",
    "model = build_dnn(input_shape)\n",
    "\n",
    "# Compile the model\n",
    "model.compile(optimizer=optimizer, loss='binary_crossentropy', metrics=['accuracy'])\n",
    "print_progress_callback = PrintEpochProgress(print_epochs=50)\n",
    "\n",
    "\n",
    "model.summary()"
   ]
  },
  {
   "cell_type": "code",
   "execution_count": 17,
   "metadata": {},
   "outputs": [],
   "source": [
    "\n"
   ]
  },
  {
   "cell_type": "code",
   "execution_count": 60,
   "metadata": {},
   "outputs": [
    {
     "name": "stdout",
     "output_type": "stream",
     "text": [
      "Epoch 1/10\n",
      "218/218 [==============================] - 9s 29ms/step - loss: 0.6909 - accuracy: 0.5287 - val_loss: 0.6940 - val_accuracy: 0.4991\n",
      "Epoch 2/10\n",
      "218/218 [==============================] - 6s 25ms/step - loss: 0.6861 - accuracy: 0.5425 - val_loss: 0.6976 - val_accuracy: 0.5101\n",
      "Epoch 3/10\n",
      "218/218 [==============================] - 6s 26ms/step - loss: 0.6854 - accuracy: 0.5466 - val_loss: 0.6935 - val_accuracy: 0.5211\n",
      "Epoch 4/10\n",
      "218/218 [==============================] - 6s 26ms/step - loss: 0.6840 - accuracy: 0.5379 - val_loss: 0.6985 - val_accuracy: 0.5101\n",
      "Epoch 5/10\n",
      "218/218 [==============================] - 6s 26ms/step - loss: 0.6820 - accuracy: 0.5517 - val_loss: 0.6910 - val_accuracy: 0.5064\n",
      "Epoch 6/10\n",
      "218/218 [==============================] - 6s 26ms/step - loss: 0.6813 - accuracy: 0.5595 - val_loss: 0.7200 - val_accuracy: 0.4991\n",
      "Epoch 7/10\n",
      "218/218 [==============================] - 6s 26ms/step - loss: 0.6803 - accuracy: 0.5480 - val_loss: 0.6955 - val_accuracy: 0.5266\n",
      "Epoch 8/10\n",
      "218/218 [==============================] - 6s 27ms/step - loss: 0.6800 - accuracy: 0.5558 - val_loss: 0.6996 - val_accuracy: 0.5101\n",
      "Epoch 9/10\n",
      "218/218 [==============================] - 6s 27ms/step - loss: 0.6775 - accuracy: 0.5641 - val_loss: 0.7072 - val_accuracy: 0.5028\n",
      "Epoch 10/10\n",
      "218/218 [==============================] - 7s 32ms/step - loss: 0.6779 - accuracy: 0.5664 - val_loss: 0.7044 - val_accuracy: 0.5138\n"
     ]
    }
   ],
   "source": [
    "# Train the model\n",
    "history = model.fit(X_train, y_train, epochs=500, batch_size=10, validation_split=0.2, verbose=0, callbacks=[print_progress_callback])"
   ]
  },
  {
   "cell_type": "code",
   "execution_count": null,
   "metadata": {},
   "outputs": [],
   "source": [
    "# Evaluate the model on the test set\n",
    "loss, accuracy = model.evaluate(X_test, y_test)\n",
    "print(f'Test Loss: {loss}, Test Accuracy: {accuracy}')\n"
   ]
  },
  {
   "cell_type": "code",
   "execution_count": null,
   "metadata": {},
   "outputs": [],
   "source": [
    "import matplotlib.pyplot as plt\n",
    "\n",
    "# Plot training history\n",
    "plt.plot(history.history['loss'], label='Training Loss')\n",
    "plt.plot(history.history['val_loss'], label='Validation Loss')\n",
    "plt.xlabel('Epochs')\n",
    "plt.ylabel('Loss')\n",
    "plt.legend()\n",
    "plt.show()\n",
    "\n",
    "plt.plot(history.history['accuracy'], label='Training Accuracy')\n",
    "plt.plot(history.history['val_accuracy'], label='Validation Accuracy')\n",
    "plt.xlabel('Epochs')\n",
    "plt.ylabel('Accuracy')\n",
    "plt.legend()\n",
    "plt.show()"
   ]
  },
  {
   "cell_type": "code",
   "execution_count": null,
   "metadata": {},
   "outputs": [],
   "source": [
    "\n",
    "y_pred = model.predict(X_test)\n",
    "y_pred_binary = np.round(y_pred).astype(int)\n",
    "\n",
    "# Calculate precision, recall, and F1 score\n",
    "precision = precision_score(y_test, y_pred_binary)\n",
    "recall = recall_score(y_test, y_pred_binary)\n",
    "f1 = f1_score(y_test, y_pred_binary)\n",
    "\n",
    "print(\"Precision:\", precision)\n",
    "print(\"Recall:\", recall)\n",
    "print(\"F1 Score:\", f1)\n",
    "\n",
    "# Plot the metrics\n",
    "labels = ['Precision', 'Recall', 'F1 Score']\n",
    "values = [precision, recall, f1]\n",
    "\n",
    "cm = confusion_matrix(y_test, y_pred_binary)\n",
    "\n",
    "# Plot confusion matrix\n",
    "plt.figure(figsize=(8, 6))\n",
    "sns.heatmap(cm, annot=True, cmap='Blues', fmt='g', xticklabels=['Predicted Negative', 'Predicted Positive'], \n",
    "            yticklabels=['Actual Negative', 'Actual Positive'])\n",
    "plt.xlabel('Predicted Label')\n",
    "plt.ylabel('True Label')\n",
    "plt.title('Confusion Matrix')\n",
    "plt.show()"
   ]
  },
  {
   "cell_type": "code",
   "execution_count": null,
   "metadata": {},
   "outputs": [],
   "source": [
    "model.save('dnn.h5')"
   ]
  },
  {
   "cell_type": "markdown",
   "metadata": {},
   "source": [
    "# Model import"
   ]
  },
  {
   "cell_type": "code",
   "execution_count": 19,
   "metadata": {},
   "outputs": [
    {
     "name": "stdout",
     "output_type": "stream",
     "text": [
      "33/33 [==============================] - 0s 2ms/step\n"
     ]
    }
   ],
   "source": [
    "from tensorflow.keras.models import load_model\n",
    "\n",
    "\n",
    "loaded_model = load_model('../models/dnn.h5')\n",
    "\n",
    "\n",
    "predictions = loaded_model.predict(X_test)\n"
   ]
  },
  {
   "cell_type": "code",
   "execution_count": 20,
   "metadata": {},
   "outputs": [],
   "source": [
    "y_pred_binary = np.round(predictions).astype(int)"
   ]
  },
  {
   "cell_type": "code",
   "execution_count": 21,
   "metadata": {},
   "outputs": [],
   "source": [
    "# Accuracy\n",
    "accuracy = accuracy_score(y_test, y_pred_binary)\n",
    "\n",
    "# Confusion Matrix\n",
    "cm = confusion_matrix(y_test, y_pred_binary)\n",
    "\n",
    "# Precision, Recall, F1 Score\n",
    "report = classification_report(y_test, y_pred_binary)\n",
    "\n",
    "# ROC AUC Score\n",
    "roc_auc = roc_auc_score(y_test, predictions)\n"
   ]
  },
  {
   "cell_type": "code",
   "execution_count": 12,
   "metadata": {},
   "outputs": [
    {
     "name": "stdout",
     "output_type": "stream",
     "text": [
      "              precision    recall  f1-score   support\n",
      "\n",
      "           0       0.99      0.93      0.96       471\n",
      "           1       0.95      0.99      0.97       553\n",
      "\n",
      "    accuracy                           0.97      1024\n",
      "   macro avg       0.97      0.96      0.97      1024\n",
      "weighted avg       0.97      0.97      0.97      1024\n",
      "\n"
     ]
    }
   ],
   "source": [
    "print(report)"
   ]
  },
  {
   "cell_type": "code",
   "execution_count": 22,
   "metadata": {},
   "outputs": [
    {
     "data": {
      "image/png": "[encoded data removed]",
      "text/plain": [
       "<Figure size 800x600 with 2 Axes>"
      ]
     },
     "metadata": {},
     "output_type": "display_data"
    }
   ],
   "source": [
    "plt.figure(figsize=(8, 6))\n",
    "sns.heatmap(cm, annot=True, cmap='Blues', fmt='g', xticklabels=['Predicted Negative', 'Predicted Positive'], \n",
    "            yticklabels=['Actual Negative', 'Actual Positive'])\n",
    "plt.xlabel('Predicted Label')\n",
    "plt.ylabel('True Label')\n",
    "plt.title('Confusion Matrix')\n",
    "plt.show()"
   ]
  },
  {
   "cell_type": "code",
   "execution_count": 21,
   "metadata": {},
   "outputs": [
    {
     "data": {
      "text/plain": [
       "0.46"
      ]
     },
     "execution_count": 21,
     "metadata": {},
     "output_type": "execute_result"
    }
   ],
   "source": [
    "X_test[-1][4]"
   ]
  },
  {
   "cell_type": "code",
   "execution_count": 23,
   "metadata": {},
   "outputs": [
    {
     "name": "stdout",
     "output_type": "stream",
     "text": [
      "Model: \"sequential_8\"\n",
      "_________________________________________________________________\n",
      " Layer (type)                Output Shape              Param #   \n",
      "=================================================================\n",
      " flatten_8 (Flatten)         (None, 26)                0         \n",
      "                                                                 \n",
      " dense_40 (Dense)            (None, 256)               6912      \n",
      "                                                                 \n",
      " leaky_re_lu_24 (LeakyReLU)  (None, 256)               0         \n",
      "                                                                 \n",
      " dense_41 (Dense)            (None, 128)               32896     \n",
      "                                                                 \n",
      " leaky_re_lu_25 (LeakyReLU)  (None, 128)               0         \n",
      "                                                                 \n",
      " dense_42 (Dense)            (None, 64)                8256      \n",
      "                                                                 \n",
      " leaky_re_lu_26 (LeakyReLU)  (None, 64)                0         \n",
      "                                                                 \n",
      " dense_43 (Dense)            (None, 32)                2080      \n",
      "                                                                 \n",
      " leaky_re_lu_27 (LeakyReLU)  (None, 32)                0         \n",
      "                                                                 \n",
      " dense_44 (Dense)            (None, 16)                528       \n",
      "                                                                 \n",
      " leaky_re_lu_28 (LeakyReLU)  (None, 16)                0         \n",
      "                                                                 \n",
      " dense_45 (Dense)            (None, 8)                 136       \n",
      "                                                                 \n",
      " leaky_re_lu_29 (LeakyReLU)  (None, 8)                 0         \n",
      "                                                                 \n",
      " dense_46 (Dense)            (None, 1)                 9         \n",
      "                                                                 \n",
      "=================================================================\n",
      "Total params: 50817 (198.50 KB)\n",
      "Trainable params: 50817 (198.50 KB)\n",
      "Non-trainable params: 0 (0.00 Byte)\n",
      "_________________________________________________________________\n"
     ]
    }
   ],
   "source": [
    "loaded_model.summary()"
   ]
  },
  {
   "cell_type": "code",
   "execution_count": null,
   "metadata": {},
   "outputs": [],
   "source": []
  }
 ],
 "metadata": {
  "kernelspec": {
   "display_name": "Python 3",
   "language": "python",
   "name": "python3"
  },
  "language_info": {
   "codemirror_mode": {
    "name": "ipython",
    "version": 3
   },
   "file_extension": ".py",
   "mimetype": "text/x-python",
   "name": "python",
   "nbconvert_exporter": "python",
   "pygments_lexer": "ipython3",
   "version": "3.8.19"
  }
 },
 "nbformat": 4,
 "nbformat_minor": 2
}
