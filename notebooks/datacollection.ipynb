{
 "cells": [
  {
   "cell_type": "code",
   "execution_count": 1,
   "metadata": {},
   "outputs": [],
   "source": [
    "import os\n",
    "import sys\n",
    "import csv\n",
    "import requests\n",
    "from bs4 import BeautifulSoup\n",
    "import json\n",
    "import datetime\n",
    "from datetime import date, timedelta\n",
    "import pandas as pd\n",
    "import numpy as np"
   ]
  },
  {
   "cell_type": "markdown",
   "metadata": {},
   "source": [
    "# News data"
   ]
  },
  {
   "cell_type": "code",
   "execution_count": 2,
   "metadata": {},
   "outputs": [],
   "source": [
    "today = date.today()\n",
    "\n"
   ]
  },
  {
   "cell_type": "code",
   "execution_count": null,
   "metadata": {},
   "outputs": [],
   "source": [
    "'''\n",
    "api = \"16ac337f8ef1480c898f80990299d106\"\n",
    "url = \"https://newsapi.org/v2/everything\"\n",
    "\n",
    "while True:\n",
    "\n",
    "    today = today\n",
    "    \n",
    "    end = date(2018, 2, 1)\n",
    "\n",
    "    if today >= end:\n",
    "\n",
    "      next = today - timedelta(days=7)\n",
    "\n",
    "      params = {\n",
    "          \"q\": \"crypto AND (bitcoin OR btc)\",\n",
    "          \"from\": today,\n",
    "          \"to\": next,\n",
    "          \"language\": \"en\",\n",
    "          \"sortBy\": \"relevancy\",\n",
    "          \"apiKey\": api\n",
    "      }\n",
    "\n",
    "\n",
    "      response = requests.get(url, params=params)\n",
    "      news = []\n",
    "      time = []\n",
    "\n",
    "      if response.status_code == 200:\n",
    "          data = response.json()\n",
    "          for des in data[\"articles\"]:\n",
    "              time.append(des[\"publishedAt\"])\n",
    "              news.append(des[\"description\"])\n",
    "\n",
    "          with open(\"btcnews.csv\", mode='a', newline='') as file:\n",
    "            writer = csv.writer(file)\n",
    "            writer.writerow([\"Time\", \"News\"])\n",
    "            for t, n in zip(time, news):\n",
    "              writer.writerow([t, n])\n",
    "\n",
    "          print(f\"{today} to {next} done...\")\n",
    "\n",
    "      else:\n",
    "          print(\"Failed to fetch news. Status code:\", response.status_code)\n",
    "\n",
    "      \n",
    "\n",
    "      today = today - timedelta(days=7)\n",
    "\n",
    "    else:\n",
    "      break\n",
    "\n",
    "'''\n"
   ]
  },
  {
   "cell_type": "markdown",
   "metadata": {},
   "source": [
    "# Fear and Greed"
   ]
  },
  {
   "cell_type": "code",
   "execution_count": 11,
   "metadata": {},
   "outputs": [
    {
     "name": "stdout",
     "output_type": "stream",
     "text": [
      "Data written\n"
     ]
    }
   ],
   "source": [
    "url = \"https://api.alternative.me/fng/?limit=0\"\n",
    "csv_file = \"btcfg.csv\"\n",
    "response = requests.get(url)\n",
    "data = response.json()\n",
    "index_data = data['data']\n",
    "\n",
    "with open(csv_file, mode='w', newline='') as file:\n",
    "    writer = csv.writer(file)\n",
    "    writer.writerow(['Timestamp', 'Value', 'Value_classification'])\n",
    "    for entry in index_data:\n",
    "        timestamp = datetime.datetime.utcfromtimestamp(int(entry['timestamp']))\n",
    "        value = entry['value']\n",
    "        value_classification = entry['value_classification']\n",
    "        writer.writerow([timestamp, value, value_classification])\n",
    "\n",
    "print(f\"Data written\")\n"
   ]
  },
  {
   "cell_type": "markdown",
   "metadata": {},
   "source": [
    "# BTC Price"
   ]
  },
  {
   "cell_type": "code",
   "execution_count": 3,
   "metadata": {},
   "outputs": [
    {
     "name": "stdout",
     "output_type": "stream",
     "text": [
      "Current BTC price: $ 68449\n"
     ]
    }
   ],
   "source": [
    "import requests\n",
    "\n",
    "def get_btc_price():\n",
    "    url = \"https://api.coingecko.com/api/v3/simple/price?ids=bitcoin&vs_currencies=usd\"\n",
    "    response = requests.get(url)\n",
    "    if response.status_code == 200:\n",
    "        data = response.json()\n",
    "        btc_price = data[\"bitcoin\"][\"usd\"]\n",
    "        return btc_price\n",
    "    else:\n",
    "        print(\"Failed to fetch data\")\n",
    "        return None\n",
    "\n",
    "# Example usage\n",
    "btc_price = get_btc_price()\n",
    "if btc_price is not None:\n",
    "    print(\"Current BTC price: $\", btc_price)\n"
   ]
  },
  {
   "cell_type": "code",
   "execution_count": null,
   "metadata": {},
   "outputs": [],
   "source": []
  },
  {
   "cell_type": "markdown",
   "metadata": {},
   "source": [
    "# Data preprocessing"
   ]
  },
  {
   "cell_type": "markdown",
   "metadata": {},
   "source": [
    "## BTCUSD"
   ]
  },
  {
   "cell_type": "code",
   "execution_count": 4,
   "metadata": {},
   "outputs": [],
   "source": [
    "btc = pd.read_csv(\"../data/2015/btcusd.csv\")"
   ]
  },
  {
   "cell_type": "code",
   "execution_count": 5,
   "metadata": {},
   "outputs": [
    {
     "data": {
      "text/plain": [
       "Date        object\n",
       "Price       object\n",
       "Open        object\n",
       "High        object\n",
       "Low         object\n",
       "Vol.        object\n",
       "Change %    object\n",
       "dtype: object"
      ]
     },
     "execution_count": 5,
     "metadata": {},
     "output_type": "execute_result"
    }
   ],
   "source": [
    "btc.dtypes"
   ]
  },
  {
   "cell_type": "code",
   "execution_count": 6,
   "metadata": {},
   "outputs": [
    {
     "data": {
      "text/html": [
       "<div>\n",
       "<style scoped>\n",
       "    .dataframe tbody tr th:only-of-type {\n",
       "        vertical-align: middle;\n",
       "    }\n",
       "\n",
       "    .dataframe tbody tr th {\n",
       "        vertical-align: top;\n",
       "    }\n",
       "\n",
       "    .dataframe thead th {\n",
       "        text-align: right;\n",
       "    }\n",
       "</style>\n",
       "<table border=\"1\" class=\"dataframe\">\n",
       "  <thead>\n",
       "    <tr style=\"text-align: right;\">\n",
       "      <th></th>\n",
       "      <th>Date</th>\n",
       "      <th>Price</th>\n",
       "      <th>Open</th>\n",
       "      <th>High</th>\n",
       "      <th>Low</th>\n",
       "      <th>Vol.</th>\n",
       "      <th>Change %</th>\n",
       "    </tr>\n",
       "  </thead>\n",
       "  <tbody>\n",
       "    <tr>\n",
       "      <th>count</th>\n",
       "      <td>3413</td>\n",
       "      <td>3413</td>\n",
       "      <td>3413</td>\n",
       "      <td>3413</td>\n",
       "      <td>3413</td>\n",
       "      <td>3403</td>\n",
       "      <td>3413</td>\n",
       "    </tr>\n",
       "    <tr>\n",
       "      <th>unique</th>\n",
       "      <td>3413</td>\n",
       "      <td>3295</td>\n",
       "      <td>3282</td>\n",
       "      <td>3252</td>\n",
       "      <td>3263</td>\n",
       "      <td>2052</td>\n",
       "      <td>1257</td>\n",
       "    </tr>\n",
       "    <tr>\n",
       "      <th>top</th>\n",
       "      <td>05/07/2024</td>\n",
       "      <td>604.1</td>\n",
       "      <td>604.1</td>\n",
       "      <td>604.1</td>\n",
       "      <td>604.1</td>\n",
       "      <td>1.44K</td>\n",
       "      <td>0.00%</td>\n",
       "    </tr>\n",
       "    <tr>\n",
       "      <th>freq</th>\n",
       "      <td>1</td>\n",
       "      <td>7</td>\n",
       "      <td>8</td>\n",
       "      <td>7</td>\n",
       "      <td>7</td>\n",
       "      <td>9</td>\n",
       "      <td>18</td>\n",
       "    </tr>\n",
       "  </tbody>\n",
       "</table>\n",
       "</div>"
      ],
      "text/plain": [
       "              Date  Price   Open   High    Low   Vol. Change %\n",
       "count         3413   3413   3413   3413   3413   3403     3413\n",
       "unique        3413   3295   3282   3252   3263   2052     1257\n",
       "top     05/07/2024  604.1  604.1  604.1  604.1  1.44K    0.00%\n",
       "freq             1      7      8      7      7      9       18"
      ]
     },
     "execution_count": 6,
     "metadata": {},
     "output_type": "execute_result"
    }
   ],
   "source": [
    "btc.describe()"
   ]
  },
  {
   "cell_type": "code",
   "execution_count": 7,
   "metadata": {},
   "outputs": [],
   "source": [
    "btc.rename(columns={'Price': 'btc_price', 'Open':'btc_open', 'High':'btc_high', 'Low':'btc_low', 'Vol.':'btc_vol', 'Change %':'btc_change'}, inplace=True)"
   ]
  },
  {
   "cell_type": "code",
   "execution_count": 8,
   "metadata": {},
   "outputs": [
    {
     "data": {
      "text/plain": [
       "Date           0\n",
       "btc_price      0\n",
       "btc_open       0\n",
       "btc_high       0\n",
       "btc_low        0\n",
       "btc_vol       10\n",
       "btc_change     0\n",
       "dtype: int64"
      ]
     },
     "execution_count": 8,
     "metadata": {},
     "output_type": "execute_result"
    }
   ],
   "source": [
    "btc.isna().sum()"
   ]
  },
  {
   "cell_type": "code",
   "execution_count": 9,
   "metadata": {},
   "outputs": [],
   "source": [
    "btc['Date'] = pd.to_datetime(btc['Date'], format='%m/%d/%Y')"
   ]
  },
  {
   "cell_type": "code",
   "execution_count": 10,
   "metadata": {},
   "outputs": [],
   "source": [
    "btc.drop(columns=['btc_vol'], inplace=True)"
   ]
  },
  {
   "cell_type": "code",
   "execution_count": 11,
   "metadata": {},
   "outputs": [
    {
     "data": {
      "text/html": [
       "<div>\n",
       "<style scoped>\n",
       "    .dataframe tbody tr th:only-of-type {\n",
       "        vertical-align: middle;\n",
       "    }\n",
       "\n",
       "    .dataframe tbody tr th {\n",
       "        vertical-align: top;\n",
       "    }\n",
       "\n",
       "    .dataframe thead th {\n",
       "        text-align: right;\n",
       "    }\n",
       "</style>\n",
       "<table border=\"1\" class=\"dataframe\">\n",
       "  <thead>\n",
       "    <tr style=\"text-align: right;\">\n",
       "      <th></th>\n",
       "      <th>Date</th>\n",
       "      <th>btc_price</th>\n",
       "      <th>btc_open</th>\n",
       "      <th>btc_high</th>\n",
       "      <th>btc_low</th>\n",
       "      <th>btc_change</th>\n",
       "    </tr>\n",
       "  </thead>\n",
       "  <tbody>\n",
       "    <tr>\n",
       "      <th>0</th>\n",
       "      <td>2024-05-07</td>\n",
       "      <td>63,753.0</td>\n",
       "      <td>63,280.0</td>\n",
       "      <td>64,480.0</td>\n",
       "      <td>62,987.0</td>\n",
       "      <td>0.75%</td>\n",
       "    </tr>\n",
       "    <tr>\n",
       "      <th>1</th>\n",
       "      <td>2024-05-06</td>\n",
       "      <td>63,280.0</td>\n",
       "      <td>64,173.0</td>\n",
       "      <td>65,625.0</td>\n",
       "      <td>62,812.0</td>\n",
       "      <td>-1.39%</td>\n",
       "    </tr>\n",
       "    <tr>\n",
       "      <th>2</th>\n",
       "      <td>2024-05-05</td>\n",
       "      <td>64,173.0</td>\n",
       "      <td>63,983.0</td>\n",
       "      <td>64,769.0</td>\n",
       "      <td>63,034.0</td>\n",
       "      <td>0.30%</td>\n",
       "    </tr>\n",
       "    <tr>\n",
       "      <th>3</th>\n",
       "      <td>2024-05-04</td>\n",
       "      <td>63,983.0</td>\n",
       "      <td>62,978.0</td>\n",
       "      <td>64,644.0</td>\n",
       "      <td>62,690.0</td>\n",
       "      <td>1.60%</td>\n",
       "    </tr>\n",
       "    <tr>\n",
       "      <th>4</th>\n",
       "      <td>2024-05-03</td>\n",
       "      <td>62,978.0</td>\n",
       "      <td>59,247.0</td>\n",
       "      <td>63,429.0</td>\n",
       "      <td>58,914.0</td>\n",
       "      <td>6.30%</td>\n",
       "    </tr>\n",
       "  </tbody>\n",
       "</table>\n",
       "</div>"
      ],
      "text/plain": [
       "        Date btc_price  btc_open  btc_high   btc_low btc_change\n",
       "0 2024-05-07  63,753.0  63,280.0  64,480.0  62,987.0      0.75%\n",
       "1 2024-05-06  63,280.0  64,173.0  65,625.0  62,812.0     -1.39%\n",
       "2 2024-05-05  64,173.0  63,983.0  64,769.0  63,034.0      0.30%\n",
       "3 2024-05-04  63,983.0  62,978.0  64,644.0  62,690.0      1.60%\n",
       "4 2024-05-03  62,978.0  59,247.0  63,429.0  58,914.0      6.30%"
      ]
     },
     "execution_count": 11,
     "metadata": {},
     "output_type": "execute_result"
    }
   ],
   "source": [
    "btc.head()"
   ]
  },
  {
   "cell_type": "code",
   "execution_count": 12,
   "metadata": {},
   "outputs": [],
   "source": [
    "btc['btc_change'] = btc['btc_change'].str.replace('%', '')"
   ]
  },
  {
   "cell_type": "code",
   "execution_count": 13,
   "metadata": {},
   "outputs": [],
   "source": [
    "cols = ['btc_price', 'btc_open', 'btc_high', 'btc_low']\n",
    "\n",
    "for i in range(len(cols)):\n",
    "    btc[cols[i]] = btc[cols[i]].str.replace(',', '')"
   ]
  },
  {
   "cell_type": "code",
   "execution_count": 14,
   "metadata": {},
   "outputs": [
    {
     "data": {
      "text/plain": [
       "Date          datetime64[ns]\n",
       "btc_price            float64\n",
       "btc_open             float64\n",
       "btc_high             float64\n",
       "btc_low              float64\n",
       "btc_change           float64\n",
       "dtype: object"
      ]
     },
     "execution_count": 14,
     "metadata": {},
     "output_type": "execute_result"
    }
   ],
   "source": [
    "btc['btc_price'] = pd.to_numeric(btc['btc_price'], errors='coerce')\n",
    "btc['btc_open'] = pd.to_numeric(btc['btc_open'], errors='coerce')\n",
    "btc['btc_high'] = pd.to_numeric(btc['btc_high'], errors='coerce')\n",
    "btc['btc_low'] = pd.to_numeric(btc['btc_low'], errors='coerce')\n",
    "btc['btc_change'] = pd.to_numeric(btc['btc_change'], errors='coerce')\n",
    "btc.dtypes\n"
   ]
  },
  {
   "cell_type": "code",
   "execution_count": 15,
   "metadata": {},
   "outputs": [
    {
     "data": {
      "text/html": [
       "<div>\n",
       "<style scoped>\n",
       "    .dataframe tbody tr th:only-of-type {\n",
       "        vertical-align: middle;\n",
       "    }\n",
       "\n",
       "    .dataframe tbody tr th {\n",
       "        vertical-align: top;\n",
       "    }\n",
       "\n",
       "    .dataframe thead th {\n",
       "        text-align: right;\n",
       "    }\n",
       "</style>\n",
       "<table border=\"1\" class=\"dataframe\">\n",
       "  <thead>\n",
       "    <tr style=\"text-align: right;\">\n",
       "      <th></th>\n",
       "      <th>Date</th>\n",
       "      <th>btc_price</th>\n",
       "      <th>btc_open</th>\n",
       "      <th>btc_high</th>\n",
       "      <th>btc_low</th>\n",
       "      <th>btc_change</th>\n",
       "    </tr>\n",
       "  </thead>\n",
       "  <tbody>\n",
       "    <tr>\n",
       "      <th>0</th>\n",
       "      <td>2024-05-07</td>\n",
       "      <td>63753.0</td>\n",
       "      <td>63280.0</td>\n",
       "      <td>64480.0</td>\n",
       "      <td>62987.0</td>\n",
       "      <td>0.75</td>\n",
       "    </tr>\n",
       "    <tr>\n",
       "      <th>1</th>\n",
       "      <td>2024-05-06</td>\n",
       "      <td>63280.0</td>\n",
       "      <td>64173.0</td>\n",
       "      <td>65625.0</td>\n",
       "      <td>62812.0</td>\n",
       "      <td>-1.39</td>\n",
       "    </tr>\n",
       "    <tr>\n",
       "      <th>2</th>\n",
       "      <td>2024-05-05</td>\n",
       "      <td>64173.0</td>\n",
       "      <td>63983.0</td>\n",
       "      <td>64769.0</td>\n",
       "      <td>63034.0</td>\n",
       "      <td>0.30</td>\n",
       "    </tr>\n",
       "    <tr>\n",
       "      <th>3</th>\n",
       "      <td>2024-05-04</td>\n",
       "      <td>63983.0</td>\n",
       "      <td>62978.0</td>\n",
       "      <td>64644.0</td>\n",
       "      <td>62690.0</td>\n",
       "      <td>1.60</td>\n",
       "    </tr>\n",
       "    <tr>\n",
       "      <th>4</th>\n",
       "      <td>2024-05-03</td>\n",
       "      <td>62978.0</td>\n",
       "      <td>59247.0</td>\n",
       "      <td>63429.0</td>\n",
       "      <td>58914.0</td>\n",
       "      <td>6.30</td>\n",
       "    </tr>\n",
       "  </tbody>\n",
       "</table>\n",
       "</div>"
      ],
      "text/plain": [
       "        Date  btc_price  btc_open  btc_high  btc_low  btc_change\n",
       "0 2024-05-07    63753.0   63280.0   64480.0  62987.0        0.75\n",
       "1 2024-05-06    63280.0   64173.0   65625.0  62812.0       -1.39\n",
       "2 2024-05-05    64173.0   63983.0   64769.0  63034.0        0.30\n",
       "3 2024-05-04    63983.0   62978.0   64644.0  62690.0        1.60\n",
       "4 2024-05-03    62978.0   59247.0   63429.0  58914.0        6.30"
      ]
     },
     "execution_count": 15,
     "metadata": {},
     "output_type": "execute_result"
    }
   ],
   "source": [
    "btc.head()"
   ]
  },
  {
   "cell_type": "code",
   "execution_count": 16,
   "metadata": {},
   "outputs": [
    {
     "data": {
      "text/plain": [
       "Date          0\n",
       "btc_price     0\n",
       "btc_open      0\n",
       "btc_high      0\n",
       "btc_low       0\n",
       "btc_change    0\n",
       "dtype: int64"
      ]
     },
     "execution_count": 16,
     "metadata": {},
     "output_type": "execute_result"
    }
   ],
   "source": [
    "btc.isna().sum()"
   ]
  },
  {
   "cell_type": "markdown",
   "metadata": {},
   "source": [
    "# Gold"
   ]
  },
  {
   "cell_type": "code",
   "execution_count": 17,
   "metadata": {},
   "outputs": [],
   "source": [
    "gold = pd.read_csv(\"../data/2015/gold.csv\")"
   ]
  },
  {
   "cell_type": "code",
   "execution_count": 18,
   "metadata": {},
   "outputs": [
    {
     "data": {
      "text/html": [
       "<div>\n",
       "<style scoped>\n",
       "    .dataframe tbody tr th:only-of-type {\n",
       "        vertical-align: middle;\n",
       "    }\n",
       "\n",
       "    .dataframe tbody tr th {\n",
       "        vertical-align: top;\n",
       "    }\n",
       "\n",
       "    .dataframe thead th {\n",
       "        text-align: right;\n",
       "    }\n",
       "</style>\n",
       "<table border=\"1\" class=\"dataframe\">\n",
       "  <thead>\n",
       "    <tr style=\"text-align: right;\">\n",
       "      <th></th>\n",
       "      <th>Date</th>\n",
       "      <th>Price</th>\n",
       "      <th>Open</th>\n",
       "      <th>High</th>\n",
       "      <th>Low</th>\n",
       "      <th>Vol.</th>\n",
       "      <th>Change %</th>\n",
       "    </tr>\n",
       "  </thead>\n",
       "  <tbody>\n",
       "    <tr>\n",
       "      <th>0</th>\n",
       "      <td>05/07/2024</td>\n",
       "      <td>2,327.60</td>\n",
       "      <td>2,334.60</td>\n",
       "      <td>2,338.65</td>\n",
       "      <td>2,318.30</td>\n",
       "      <td>NaN</td>\n",
       "      <td>-0.15%</td>\n",
       "    </tr>\n",
       "    <tr>\n",
       "      <th>1</th>\n",
       "      <td>05/06/2024</td>\n",
       "      <td>2,331.20</td>\n",
       "      <td>2,312.80</td>\n",
       "      <td>2,341.90</td>\n",
       "      <td>2,300.60</td>\n",
       "      <td>191.90K</td>\n",
       "      <td>0.98%</td>\n",
       "    </tr>\n",
       "    <tr>\n",
       "      <th>2</th>\n",
       "      <td>05/03/2024</td>\n",
       "      <td>2,308.60</td>\n",
       "      <td>2,313.50</td>\n",
       "      <td>2,330.70</td>\n",
       "      <td>2,285.20</td>\n",
       "      <td>231.40K</td>\n",
       "      <td>-0.04%</td>\n",
       "    </tr>\n",
       "    <tr>\n",
       "      <th>3</th>\n",
       "      <td>05/02/2024</td>\n",
       "      <td>2,309.60</td>\n",
       "      <td>2,329.90</td>\n",
       "      <td>2,336.10</td>\n",
       "      <td>2,294.30</td>\n",
       "      <td>193.66K</td>\n",
       "      <td>-0.06%</td>\n",
       "    </tr>\n",
       "    <tr>\n",
       "      <th>4</th>\n",
       "      <td>05/01/2024</td>\n",
       "      <td>2,311.00</td>\n",
       "      <td>2,298.20</td>\n",
       "      <td>2,339.50</td>\n",
       "      <td>2,291.70</td>\n",
       "      <td>227.38K</td>\n",
       "      <td>0.35%</td>\n",
       "    </tr>\n",
       "  </tbody>\n",
       "</table>\n",
       "</div>"
      ],
      "text/plain": [
       "         Date     Price      Open      High       Low     Vol. Change %\n",
       "0  05/07/2024  2,327.60  2,334.60  2,338.65  2,318.30      NaN   -0.15%\n",
       "1  05/06/2024  2,331.20  2,312.80  2,341.90  2,300.60  191.90K    0.98%\n",
       "2  05/03/2024  2,308.60  2,313.50  2,330.70  2,285.20  231.40K   -0.04%\n",
       "3  05/02/2024  2,309.60  2,329.90  2,336.10  2,294.30  193.66K   -0.06%\n",
       "4  05/01/2024  2,311.00  2,298.20  2,339.50  2,291.70  227.38K    0.35%"
      ]
     },
     "execution_count": 18,
     "metadata": {},
     "output_type": "execute_result"
    }
   ],
   "source": [
    "gold.head()"
   ]
  },
  {
   "cell_type": "code",
   "execution_count": 19,
   "metadata": {},
   "outputs": [
    {
     "data": {
      "text/plain": [
       "Date        object\n",
       "Price       object\n",
       "Open        object\n",
       "High        object\n",
       "Low         object\n",
       "Vol.        object\n",
       "Change %    object\n",
       "dtype: object"
      ]
     },
     "execution_count": 19,
     "metadata": {},
     "output_type": "execute_result"
    }
   ],
   "source": [
    "gold.dtypes"
   ]
  },
  {
   "cell_type": "code",
   "execution_count": 20,
   "metadata": {},
   "outputs": [
    {
     "data": {
      "text/html": [
       "<div>\n",
       "<style scoped>\n",
       "    .dataframe tbody tr th:only-of-type {\n",
       "        vertical-align: middle;\n",
       "    }\n",
       "\n",
       "    .dataframe tbody tr th {\n",
       "        vertical-align: top;\n",
       "    }\n",
       "\n",
       "    .dataframe thead th {\n",
       "        text-align: right;\n",
       "    }\n",
       "</style>\n",
       "<table border=\"1\" class=\"dataframe\">\n",
       "  <thead>\n",
       "    <tr style=\"text-align: right;\">\n",
       "      <th></th>\n",
       "      <th>Date</th>\n",
       "      <th>Price</th>\n",
       "      <th>Open</th>\n",
       "      <th>High</th>\n",
       "      <th>Low</th>\n",
       "      <th>Vol.</th>\n",
       "      <th>Change %</th>\n",
       "    </tr>\n",
       "  </thead>\n",
       "  <tbody>\n",
       "    <tr>\n",
       "      <th>count</th>\n",
       "      <td>2422</td>\n",
       "      <td>2422</td>\n",
       "      <td>2422</td>\n",
       "      <td>2422</td>\n",
       "      <td>2422</td>\n",
       "      <td>2400</td>\n",
       "      <td>2422</td>\n",
       "    </tr>\n",
       "    <tr>\n",
       "      <th>unique</th>\n",
       "      <td>2422</td>\n",
       "      <td>2049</td>\n",
       "      <td>2005</td>\n",
       "      <td>2066</td>\n",
       "      <td>2046</td>\n",
       "      <td>2241</td>\n",
       "      <td>435</td>\n",
       "    </tr>\n",
       "    <tr>\n",
       "      <th>top</th>\n",
       "      <td>05/07/2024</td>\n",
       "      <td>1,208.20</td>\n",
       "      <td>1,345.00</td>\n",
       "      <td>1,288.40</td>\n",
       "      <td>1,246.90</td>\n",
       "      <td>0.37K</td>\n",
       "      <td>0.00%</td>\n",
       "    </tr>\n",
       "    <tr>\n",
       "      <th>freq</th>\n",
       "      <td>1</td>\n",
       "      <td>5</td>\n",
       "      <td>5</td>\n",
       "      <td>4</td>\n",
       "      <td>4</td>\n",
       "      <td>6</td>\n",
       "      <td>26</td>\n",
       "    </tr>\n",
       "  </tbody>\n",
       "</table>\n",
       "</div>"
      ],
      "text/plain": [
       "              Date     Price      Open      High       Low   Vol. Change %\n",
       "count         2422      2422      2422      2422      2422   2400     2422\n",
       "unique        2422      2049      2005      2066      2046   2241      435\n",
       "top     05/07/2024  1,208.20  1,345.00  1,288.40  1,246.90  0.37K    0.00%\n",
       "freq             1         5         5         4         4      6       26"
      ]
     },
     "execution_count": 20,
     "metadata": {},
     "output_type": "execute_result"
    }
   ],
   "source": [
    "gold.describe()"
   ]
  },
  {
   "cell_type": "code",
   "execution_count": 21,
   "metadata": {},
   "outputs": [],
   "source": [
    "gold.rename(columns={'Price': 'gold_price', 'Open':'gold_open', 'High':'gold_high', 'Low':'gold_low', 'Vol.':'gold_vol', 'Change %':'gold_change'}, inplace=True)"
   ]
  },
  {
   "cell_type": "code",
   "execution_count": 22,
   "metadata": {},
   "outputs": [
    {
     "data": {
      "text/plain": [
       "Date            0\n",
       "gold_price      0\n",
       "gold_open       0\n",
       "gold_high       0\n",
       "gold_low        0\n",
       "gold_vol       22\n",
       "gold_change     0\n",
       "dtype: int64"
      ]
     },
     "execution_count": 22,
     "metadata": {},
     "output_type": "execute_result"
    }
   ],
   "source": [
    "gold.isna().sum()"
   ]
  },
  {
   "cell_type": "code",
   "execution_count": 23,
   "metadata": {},
   "outputs": [],
   "source": [
    "gold['Date'] = pd.to_datetime(gold['Date'], format='%m/%d/%Y')"
   ]
  },
  {
   "cell_type": "code",
   "execution_count": 24,
   "metadata": {},
   "outputs": [],
   "source": [
    "gold.drop(columns=['gold_vol'], inplace=True)"
   ]
  },
  {
   "cell_type": "code",
   "execution_count": 25,
   "metadata": {},
   "outputs": [
    {
     "data": {
      "text/html": [
       "<div>\n",
       "<style scoped>\n",
       "    .dataframe tbody tr th:only-of-type {\n",
       "        vertical-align: middle;\n",
       "    }\n",
       "\n",
       "    .dataframe tbody tr th {\n",
       "        vertical-align: top;\n",
       "    }\n",
       "\n",
       "    .dataframe thead th {\n",
       "        text-align: right;\n",
       "    }\n",
       "</style>\n",
       "<table border=\"1\" class=\"dataframe\">\n",
       "  <thead>\n",
       "    <tr style=\"text-align: right;\">\n",
       "      <th></th>\n",
       "      <th>Date</th>\n",
       "      <th>gold_price</th>\n",
       "      <th>gold_open</th>\n",
       "      <th>gold_high</th>\n",
       "      <th>gold_low</th>\n",
       "      <th>gold_change</th>\n",
       "    </tr>\n",
       "  </thead>\n",
       "  <tbody>\n",
       "    <tr>\n",
       "      <th>0</th>\n",
       "      <td>2024-05-07</td>\n",
       "      <td>2,327.60</td>\n",
       "      <td>2,334.60</td>\n",
       "      <td>2,338.65</td>\n",
       "      <td>2,318.30</td>\n",
       "      <td>-0.15%</td>\n",
       "    </tr>\n",
       "    <tr>\n",
       "      <th>1</th>\n",
       "      <td>2024-05-06</td>\n",
       "      <td>2,331.20</td>\n",
       "      <td>2,312.80</td>\n",
       "      <td>2,341.90</td>\n",
       "      <td>2,300.60</td>\n",
       "      <td>0.98%</td>\n",
       "    </tr>\n",
       "    <tr>\n",
       "      <th>2</th>\n",
       "      <td>2024-05-03</td>\n",
       "      <td>2,308.60</td>\n",
       "      <td>2,313.50</td>\n",
       "      <td>2,330.70</td>\n",
       "      <td>2,285.20</td>\n",
       "      <td>-0.04%</td>\n",
       "    </tr>\n",
       "    <tr>\n",
       "      <th>3</th>\n",
       "      <td>2024-05-02</td>\n",
       "      <td>2,309.60</td>\n",
       "      <td>2,329.90</td>\n",
       "      <td>2,336.10</td>\n",
       "      <td>2,294.30</td>\n",
       "      <td>-0.06%</td>\n",
       "    </tr>\n",
       "    <tr>\n",
       "      <th>4</th>\n",
       "      <td>2024-05-01</td>\n",
       "      <td>2,311.00</td>\n",
       "      <td>2,298.20</td>\n",
       "      <td>2,339.50</td>\n",
       "      <td>2,291.70</td>\n",
       "      <td>0.35%</td>\n",
       "    </tr>\n",
       "  </tbody>\n",
       "</table>\n",
       "</div>"
      ],
      "text/plain": [
       "        Date gold_price gold_open gold_high  gold_low gold_change\n",
       "0 2024-05-07   2,327.60  2,334.60  2,338.65  2,318.30      -0.15%\n",
       "1 2024-05-06   2,331.20  2,312.80  2,341.90  2,300.60       0.98%\n",
       "2 2024-05-03   2,308.60  2,313.50  2,330.70  2,285.20      -0.04%\n",
       "3 2024-05-02   2,309.60  2,329.90  2,336.10  2,294.30      -0.06%\n",
       "4 2024-05-01   2,311.00  2,298.20  2,339.50  2,291.70       0.35%"
      ]
     },
     "execution_count": 25,
     "metadata": {},
     "output_type": "execute_result"
    }
   ],
   "source": [
    "gold.head()"
   ]
  },
  {
   "cell_type": "code",
   "execution_count": 26,
   "metadata": {},
   "outputs": [
    {
     "data": {
      "text/plain": [
       "Date           datetime64[ns]\n",
       "gold_price            float64\n",
       "gold_open             float64\n",
       "gold_high             float64\n",
       "gold_low              float64\n",
       "gold_change           float64\n",
       "dtype: object"
      ]
     },
     "execution_count": 26,
     "metadata": {},
     "output_type": "execute_result"
    }
   ],
   "source": [
    "gold['gold_change'] = gold['gold_change'].str.replace('%', '')\n",
    "\n",
    "cols = ['gold_price', 'gold_open', 'gold_high', 'gold_low']\n",
    "\n",
    "for i in range(len(cols)):\n",
    "    gold[cols[i]] = gold[cols[i]].str.replace(',', '')\n",
    "\n",
    "gold['gold_price'] = pd.to_numeric(gold['gold_price'], errors='coerce')\n",
    "gold['gold_open'] = pd.to_numeric(gold['gold_open'], errors='coerce')\n",
    "gold['gold_high'] = pd.to_numeric(gold['gold_high'], errors='coerce')\n",
    "gold['gold_low'] = pd.to_numeric(gold['gold_low'], errors='coerce')\n",
    "gold['gold_change'] = pd.to_numeric(gold['gold_change'], errors='coerce')\n",
    "gold.dtypes\n"
   ]
  },
  {
   "cell_type": "code",
   "execution_count": 27,
   "metadata": {},
   "outputs": [
    {
     "data": {
      "text/html": [
       "<div>\n",
       "<style scoped>\n",
       "    .dataframe tbody tr th:only-of-type {\n",
       "        vertical-align: middle;\n",
       "    }\n",
       "\n",
       "    .dataframe tbody tr th {\n",
       "        vertical-align: top;\n",
       "    }\n",
       "\n",
       "    .dataframe thead th {\n",
       "        text-align: right;\n",
       "    }\n",
       "</style>\n",
       "<table border=\"1\" class=\"dataframe\">\n",
       "  <thead>\n",
       "    <tr style=\"text-align: right;\">\n",
       "      <th></th>\n",
       "      <th>Date</th>\n",
       "      <th>gold_price</th>\n",
       "      <th>gold_open</th>\n",
       "      <th>gold_high</th>\n",
       "      <th>gold_low</th>\n",
       "      <th>gold_change</th>\n",
       "    </tr>\n",
       "  </thead>\n",
       "  <tbody>\n",
       "    <tr>\n",
       "      <th>0</th>\n",
       "      <td>2024-05-07</td>\n",
       "      <td>2327.6</td>\n",
       "      <td>2334.6</td>\n",
       "      <td>2338.65</td>\n",
       "      <td>2318.3</td>\n",
       "      <td>-0.15</td>\n",
       "    </tr>\n",
       "    <tr>\n",
       "      <th>1</th>\n",
       "      <td>2024-05-06</td>\n",
       "      <td>2331.2</td>\n",
       "      <td>2312.8</td>\n",
       "      <td>2341.90</td>\n",
       "      <td>2300.6</td>\n",
       "      <td>0.98</td>\n",
       "    </tr>\n",
       "    <tr>\n",
       "      <th>2</th>\n",
       "      <td>2024-05-03</td>\n",
       "      <td>2308.6</td>\n",
       "      <td>2313.5</td>\n",
       "      <td>2330.70</td>\n",
       "      <td>2285.2</td>\n",
       "      <td>-0.04</td>\n",
       "    </tr>\n",
       "    <tr>\n",
       "      <th>3</th>\n",
       "      <td>2024-05-02</td>\n",
       "      <td>2309.6</td>\n",
       "      <td>2329.9</td>\n",
       "      <td>2336.10</td>\n",
       "      <td>2294.3</td>\n",
       "      <td>-0.06</td>\n",
       "    </tr>\n",
       "    <tr>\n",
       "      <th>4</th>\n",
       "      <td>2024-05-01</td>\n",
       "      <td>2311.0</td>\n",
       "      <td>2298.2</td>\n",
       "      <td>2339.50</td>\n",
       "      <td>2291.7</td>\n",
       "      <td>0.35</td>\n",
       "    </tr>\n",
       "  </tbody>\n",
       "</table>\n",
       "</div>"
      ],
      "text/plain": [
       "        Date  gold_price  gold_open  gold_high  gold_low  gold_change\n",
       "0 2024-05-07      2327.6     2334.6    2338.65    2318.3        -0.15\n",
       "1 2024-05-06      2331.2     2312.8    2341.90    2300.6         0.98\n",
       "2 2024-05-03      2308.6     2313.5    2330.70    2285.2        -0.04\n",
       "3 2024-05-02      2309.6     2329.9    2336.10    2294.3        -0.06\n",
       "4 2024-05-01      2311.0     2298.2    2339.50    2291.7         0.35"
      ]
     },
     "execution_count": 27,
     "metadata": {},
     "output_type": "execute_result"
    }
   ],
   "source": [
    "gold.head()"
   ]
  },
  {
   "cell_type": "markdown",
   "metadata": {},
   "source": [
    "# S&P500"
   ]
  },
  {
   "cell_type": "code",
   "execution_count": 28,
   "metadata": {},
   "outputs": [],
   "source": [
    "sp = pd.read_csv(\"../data/2015/sp500.csv\")"
   ]
  },
  {
   "cell_type": "code",
   "execution_count": 29,
   "metadata": {},
   "outputs": [
    {
     "data": {
      "text/plain": [
       "Date         object\n",
       "Price        object\n",
       "Open         object\n",
       "High         object\n",
       "Low          object\n",
       "Vol.        float64\n",
       "Change %     object\n",
       "dtype: object"
      ]
     },
     "execution_count": 29,
     "metadata": {},
     "output_type": "execute_result"
    }
   ],
   "source": [
    "sp.dtypes"
   ]
  },
  {
   "cell_type": "code",
   "execution_count": 30,
   "metadata": {},
   "outputs": [],
   "source": [
    "sp.drop(columns=[\"Vol.\"], inplace=True)"
   ]
  },
  {
   "cell_type": "code",
   "execution_count": 31,
   "metadata": {},
   "outputs": [
    {
     "data": {
      "text/html": [
       "<div>\n",
       "<style scoped>\n",
       "    .dataframe tbody tr th:only-of-type {\n",
       "        vertical-align: middle;\n",
       "    }\n",
       "\n",
       "    .dataframe tbody tr th {\n",
       "        vertical-align: top;\n",
       "    }\n",
       "\n",
       "    .dataframe thead th {\n",
       "        text-align: right;\n",
       "    }\n",
       "</style>\n",
       "<table border=\"1\" class=\"dataframe\">\n",
       "  <thead>\n",
       "    <tr style=\"text-align: right;\">\n",
       "      <th></th>\n",
       "      <th>Date</th>\n",
       "      <th>Price</th>\n",
       "      <th>Open</th>\n",
       "      <th>High</th>\n",
       "      <th>Low</th>\n",
       "      <th>Change %</th>\n",
       "    </tr>\n",
       "  </thead>\n",
       "  <tbody>\n",
       "    <tr>\n",
       "      <th>0</th>\n",
       "      <td>05/06/2024</td>\n",
       "      <td>5,180.74</td>\n",
       "      <td>5,142.42</td>\n",
       "      <td>5,181.00</td>\n",
       "      <td>5,142.42</td>\n",
       "      <td>1.03%</td>\n",
       "    </tr>\n",
       "    <tr>\n",
       "      <th>1</th>\n",
       "      <td>05/03/2024</td>\n",
       "      <td>5,127.79</td>\n",
       "      <td>5,122.78</td>\n",
       "      <td>5,139.12</td>\n",
       "      <td>5,101.22</td>\n",
       "      <td>1.26%</td>\n",
       "    </tr>\n",
       "    <tr>\n",
       "      <th>2</th>\n",
       "      <td>05/02/2024</td>\n",
       "      <td>5,064.20</td>\n",
       "      <td>5,049.32</td>\n",
       "      <td>5,073.21</td>\n",
       "      <td>5,011.05</td>\n",
       "      <td>0.91%</td>\n",
       "    </tr>\n",
       "    <tr>\n",
       "      <th>3</th>\n",
       "      <td>05/01/2024</td>\n",
       "      <td>5,018.39</td>\n",
       "      <td>5,029.03</td>\n",
       "      <td>5,096.12</td>\n",
       "      <td>5,013.45</td>\n",
       "      <td>-0.34%</td>\n",
       "    </tr>\n",
       "    <tr>\n",
       "      <th>4</th>\n",
       "      <td>04/30/2024</td>\n",
       "      <td>5,035.69</td>\n",
       "      <td>5,103.78</td>\n",
       "      <td>5,110.83</td>\n",
       "      <td>5,035.31</td>\n",
       "      <td>-1.57%</td>\n",
       "    </tr>\n",
       "  </tbody>\n",
       "</table>\n",
       "</div>"
      ],
      "text/plain": [
       "         Date     Price      Open      High       Low Change %\n",
       "0  05/06/2024  5,180.74  5,142.42  5,181.00  5,142.42    1.03%\n",
       "1  05/03/2024  5,127.79  5,122.78  5,139.12  5,101.22    1.26%\n",
       "2  05/02/2024  5,064.20  5,049.32  5,073.21  5,011.05    0.91%\n",
       "3  05/01/2024  5,018.39  5,029.03  5,096.12  5,013.45   -0.34%\n",
       "4  04/30/2024  5,035.69  5,103.78  5,110.83  5,035.31   -1.57%"
      ]
     },
     "execution_count": 31,
     "metadata": {},
     "output_type": "execute_result"
    }
   ],
   "source": [
    "sp.head()"
   ]
  },
  {
   "cell_type": "code",
   "execution_count": 32,
   "metadata": {},
   "outputs": [
    {
     "data": {
      "text/html": [
       "<div>\n",
       "<style scoped>\n",
       "    .dataframe tbody tr th:only-of-type {\n",
       "        vertical-align: middle;\n",
       "    }\n",
       "\n",
       "    .dataframe tbody tr th {\n",
       "        vertical-align: top;\n",
       "    }\n",
       "\n",
       "    .dataframe thead th {\n",
       "        text-align: right;\n",
       "    }\n",
       "</style>\n",
       "<table border=\"1\" class=\"dataframe\">\n",
       "  <thead>\n",
       "    <tr style=\"text-align: right;\">\n",
       "      <th></th>\n",
       "      <th>Date</th>\n",
       "      <th>Price</th>\n",
       "      <th>Open</th>\n",
       "      <th>High</th>\n",
       "      <th>Low</th>\n",
       "      <th>Change %</th>\n",
       "    </tr>\n",
       "  </thead>\n",
       "  <tbody>\n",
       "    <tr>\n",
       "      <th>count</th>\n",
       "      <td>2351</td>\n",
       "      <td>2351</td>\n",
       "      <td>2351</td>\n",
       "      <td>2351</td>\n",
       "      <td>2351</td>\n",
       "      <td>2351</td>\n",
       "    </tr>\n",
       "    <tr>\n",
       "      <th>unique</th>\n",
       "      <td>2351</td>\n",
       "      <td>2224</td>\n",
       "      <td>2208</td>\n",
       "      <td>2207</td>\n",
       "      <td>2235</td>\n",
       "      <td>498</td>\n",
       "    </tr>\n",
       "    <tr>\n",
       "      <th>top</th>\n",
       "      <td>05/06/2024</td>\n",
       "      <td>2,268.90</td>\n",
       "      <td>2,110.60</td>\n",
       "      <td>2,094.30</td>\n",
       "      <td>2,119.90</td>\n",
       "      <td>-0.20%</td>\n",
       "    </tr>\n",
       "    <tr>\n",
       "      <th>freq</th>\n",
       "      <td>1</td>\n",
       "      <td>3</td>\n",
       "      <td>3</td>\n",
       "      <td>3</td>\n",
       "      <td>3</td>\n",
       "      <td>21</td>\n",
       "    </tr>\n",
       "  </tbody>\n",
       "</table>\n",
       "</div>"
      ],
      "text/plain": [
       "              Date     Price      Open      High       Low Change %\n",
       "count         2351      2351      2351      2351      2351     2351\n",
       "unique        2351      2224      2208      2207      2235      498\n",
       "top     05/06/2024  2,268.90  2,110.60  2,094.30  2,119.90   -0.20%\n",
       "freq             1         3         3         3         3       21"
      ]
     },
     "execution_count": 32,
     "metadata": {},
     "output_type": "execute_result"
    }
   ],
   "source": [
    "sp.describe()"
   ]
  },
  {
   "cell_type": "code",
   "execution_count": 33,
   "metadata": {},
   "outputs": [],
   "source": [
    "sp.rename(columns={'Price': 'sp_price', 'Open':'sp_open', 'High':'sp_high', 'Low':'sp_low', 'Change %':'sp_change'}, inplace=True)"
   ]
  },
  {
   "cell_type": "code",
   "execution_count": 34,
   "metadata": {},
   "outputs": [
    {
     "data": {
      "text/plain": [
       "Date         0\n",
       "sp_price     0\n",
       "sp_open      0\n",
       "sp_high      0\n",
       "sp_low       0\n",
       "sp_change    0\n",
       "dtype: int64"
      ]
     },
     "execution_count": 34,
     "metadata": {},
     "output_type": "execute_result"
    }
   ],
   "source": [
    "sp.isna().sum()"
   ]
  },
  {
   "cell_type": "code",
   "execution_count": 35,
   "metadata": {},
   "outputs": [],
   "source": [
    "sp['Date'] = pd.to_datetime(sp['Date'], format='%m/%d/%Y')"
   ]
  },
  {
   "cell_type": "code",
   "execution_count": 36,
   "metadata": {},
   "outputs": [
    {
     "data": {
      "text/html": [
       "<div>\n",
       "<style scoped>\n",
       "    .dataframe tbody tr th:only-of-type {\n",
       "        vertical-align: middle;\n",
       "    }\n",
       "\n",
       "    .dataframe tbody tr th {\n",
       "        vertical-align: top;\n",
       "    }\n",
       "\n",
       "    .dataframe thead th {\n",
       "        text-align: right;\n",
       "    }\n",
       "</style>\n",
       "<table border=\"1\" class=\"dataframe\">\n",
       "  <thead>\n",
       "    <tr style=\"text-align: right;\">\n",
       "      <th></th>\n",
       "      <th>Date</th>\n",
       "      <th>sp_price</th>\n",
       "      <th>sp_open</th>\n",
       "      <th>sp_high</th>\n",
       "      <th>sp_low</th>\n",
       "      <th>sp_change</th>\n",
       "    </tr>\n",
       "  </thead>\n",
       "  <tbody>\n",
       "    <tr>\n",
       "      <th>0</th>\n",
       "      <td>2024-05-06</td>\n",
       "      <td>5,180.74</td>\n",
       "      <td>5,142.42</td>\n",
       "      <td>5,181.00</td>\n",
       "      <td>5,142.42</td>\n",
       "      <td>1.03%</td>\n",
       "    </tr>\n",
       "    <tr>\n",
       "      <th>1</th>\n",
       "      <td>2024-05-03</td>\n",
       "      <td>5,127.79</td>\n",
       "      <td>5,122.78</td>\n",
       "      <td>5,139.12</td>\n",
       "      <td>5,101.22</td>\n",
       "      <td>1.26%</td>\n",
       "    </tr>\n",
       "    <tr>\n",
       "      <th>2</th>\n",
       "      <td>2024-05-02</td>\n",
       "      <td>5,064.20</td>\n",
       "      <td>5,049.32</td>\n",
       "      <td>5,073.21</td>\n",
       "      <td>5,011.05</td>\n",
       "      <td>0.91%</td>\n",
       "    </tr>\n",
       "    <tr>\n",
       "      <th>3</th>\n",
       "      <td>2024-05-01</td>\n",
       "      <td>5,018.39</td>\n",
       "      <td>5,029.03</td>\n",
       "      <td>5,096.12</td>\n",
       "      <td>5,013.45</td>\n",
       "      <td>-0.34%</td>\n",
       "    </tr>\n",
       "    <tr>\n",
       "      <th>4</th>\n",
       "      <td>2024-04-30</td>\n",
       "      <td>5,035.69</td>\n",
       "      <td>5,103.78</td>\n",
       "      <td>5,110.83</td>\n",
       "      <td>5,035.31</td>\n",
       "      <td>-1.57%</td>\n",
       "    </tr>\n",
       "  </tbody>\n",
       "</table>\n",
       "</div>"
      ],
      "text/plain": [
       "        Date  sp_price   sp_open   sp_high    sp_low sp_change\n",
       "0 2024-05-06  5,180.74  5,142.42  5,181.00  5,142.42     1.03%\n",
       "1 2024-05-03  5,127.79  5,122.78  5,139.12  5,101.22     1.26%\n",
       "2 2024-05-02  5,064.20  5,049.32  5,073.21  5,011.05     0.91%\n",
       "3 2024-05-01  5,018.39  5,029.03  5,096.12  5,013.45    -0.34%\n",
       "4 2024-04-30  5,035.69  5,103.78  5,110.83  5,035.31    -1.57%"
      ]
     },
     "execution_count": 36,
     "metadata": {},
     "output_type": "execute_result"
    }
   ],
   "source": [
    "sp.head()"
   ]
  },
  {
   "cell_type": "code",
   "execution_count": 37,
   "metadata": {},
   "outputs": [
    {
     "data": {
      "text/plain": [
       "Date         datetime64[ns]\n",
       "sp_price            float64\n",
       "sp_open             float64\n",
       "sp_high             float64\n",
       "sp_low              float64\n",
       "sp_change           float64\n",
       "dtype: object"
      ]
     },
     "execution_count": 37,
     "metadata": {},
     "output_type": "execute_result"
    }
   ],
   "source": [
    "sp['sp_change'] = sp['sp_change'].str.replace('%', '')\n",
    "\n",
    "cols = ['sp_price', 'sp_open', 'sp_high', 'sp_low']\n",
    "\n",
    "for i in range(len(cols)):\n",
    "    sp[cols[i]] = sp[cols[i]].str.replace(',', '')\n",
    "\n",
    "sp['sp_price'] = pd.to_numeric(sp['sp_price'], errors='coerce')\n",
    "sp['sp_open'] = pd.to_numeric(sp['sp_open'], errors='coerce')\n",
    "sp['sp_high'] = pd.to_numeric(sp['sp_high'], errors='coerce')\n",
    "sp['sp_low'] = pd.to_numeric(sp['sp_low'], errors='coerce')\n",
    "sp['sp_change'] = pd.to_numeric(sp['sp_change'], errors='coerce')\n",
    "sp.dtypes\n"
   ]
  },
  {
   "cell_type": "code",
   "execution_count": 38,
   "metadata": {},
   "outputs": [
    {
     "data": {
      "text/html": [
       "<div>\n",
       "<style scoped>\n",
       "    .dataframe tbody tr th:only-of-type {\n",
       "        vertical-align: middle;\n",
       "    }\n",
       "\n",
       "    .dataframe tbody tr th {\n",
       "        vertical-align: top;\n",
       "    }\n",
       "\n",
       "    .dataframe thead th {\n",
       "        text-align: right;\n",
       "    }\n",
       "</style>\n",
       "<table border=\"1\" class=\"dataframe\">\n",
       "  <thead>\n",
       "    <tr style=\"text-align: right;\">\n",
       "      <th></th>\n",
       "      <th>Date</th>\n",
       "      <th>sp_price</th>\n",
       "      <th>sp_open</th>\n",
       "      <th>sp_high</th>\n",
       "      <th>sp_low</th>\n",
       "      <th>sp_change</th>\n",
       "    </tr>\n",
       "  </thead>\n",
       "  <tbody>\n",
       "    <tr>\n",
       "      <th>0</th>\n",
       "      <td>2024-05-06</td>\n",
       "      <td>5180.74</td>\n",
       "      <td>5142.42</td>\n",
       "      <td>5181.00</td>\n",
       "      <td>5142.42</td>\n",
       "      <td>1.03</td>\n",
       "    </tr>\n",
       "    <tr>\n",
       "      <th>1</th>\n",
       "      <td>2024-05-03</td>\n",
       "      <td>5127.79</td>\n",
       "      <td>5122.78</td>\n",
       "      <td>5139.12</td>\n",
       "      <td>5101.22</td>\n",
       "      <td>1.26</td>\n",
       "    </tr>\n",
       "    <tr>\n",
       "      <th>2</th>\n",
       "      <td>2024-05-02</td>\n",
       "      <td>5064.20</td>\n",
       "      <td>5049.32</td>\n",
       "      <td>5073.21</td>\n",
       "      <td>5011.05</td>\n",
       "      <td>0.91</td>\n",
       "    </tr>\n",
       "    <tr>\n",
       "      <th>3</th>\n",
       "      <td>2024-05-01</td>\n",
       "      <td>5018.39</td>\n",
       "      <td>5029.03</td>\n",
       "      <td>5096.12</td>\n",
       "      <td>5013.45</td>\n",
       "      <td>-0.34</td>\n",
       "    </tr>\n",
       "    <tr>\n",
       "      <th>4</th>\n",
       "      <td>2024-04-30</td>\n",
       "      <td>5035.69</td>\n",
       "      <td>5103.78</td>\n",
       "      <td>5110.83</td>\n",
       "      <td>5035.31</td>\n",
       "      <td>-1.57</td>\n",
       "    </tr>\n",
       "  </tbody>\n",
       "</table>\n",
       "</div>"
      ],
      "text/plain": [
       "        Date  sp_price  sp_open  sp_high   sp_low  sp_change\n",
       "0 2024-05-06   5180.74  5142.42  5181.00  5142.42       1.03\n",
       "1 2024-05-03   5127.79  5122.78  5139.12  5101.22       1.26\n",
       "2 2024-05-02   5064.20  5049.32  5073.21  5011.05       0.91\n",
       "3 2024-05-01   5018.39  5029.03  5096.12  5013.45      -0.34\n",
       "4 2024-04-30   5035.69  5103.78  5110.83  5035.31      -1.57"
      ]
     },
     "execution_count": 38,
     "metadata": {},
     "output_type": "execute_result"
    }
   ],
   "source": [
    "sp.head()"
   ]
  },
  {
   "cell_type": "markdown",
   "metadata": {},
   "source": [
    "# US30"
   ]
  },
  {
   "cell_type": "code",
   "execution_count": 39,
   "metadata": {},
   "outputs": [],
   "source": [
    "us30 = pd.read_csv(\"../data/2015/us30.csv\")"
   ]
  },
  {
   "cell_type": "code",
   "execution_count": 40,
   "metadata": {},
   "outputs": [
    {
     "data": {
      "text/plain": [
       "Date        object\n",
       "Price       object\n",
       "Open        object\n",
       "High        object\n",
       "Low         object\n",
       "Vol.        object\n",
       "Change %    object\n",
       "dtype: object"
      ]
     },
     "execution_count": 40,
     "metadata": {},
     "output_type": "execute_result"
    }
   ],
   "source": [
    "us30.dtypes"
   ]
  },
  {
   "cell_type": "code",
   "execution_count": 41,
   "metadata": {},
   "outputs": [
    {
     "data": {
      "text/html": [
       "<div>\n",
       "<style scoped>\n",
       "    .dataframe tbody tr th:only-of-type {\n",
       "        vertical-align: middle;\n",
       "    }\n",
       "\n",
       "    .dataframe tbody tr th {\n",
       "        vertical-align: top;\n",
       "    }\n",
       "\n",
       "    .dataframe thead th {\n",
       "        text-align: right;\n",
       "    }\n",
       "</style>\n",
       "<table border=\"1\" class=\"dataframe\">\n",
       "  <thead>\n",
       "    <tr style=\"text-align: right;\">\n",
       "      <th></th>\n",
       "      <th>Date</th>\n",
       "      <th>Price</th>\n",
       "      <th>Open</th>\n",
       "      <th>High</th>\n",
       "      <th>Low</th>\n",
       "      <th>Vol.</th>\n",
       "      <th>Change %</th>\n",
       "    </tr>\n",
       "  </thead>\n",
       "  <tbody>\n",
       "    <tr>\n",
       "      <th>0</th>\n",
       "      <td>05/07/2024</td>\n",
       "      <td>38,908.4</td>\n",
       "      <td>38,847.9</td>\n",
       "      <td>38,945.4</td>\n",
       "      <td>38,838.5</td>\n",
       "      <td>NaN</td>\n",
       "      <td>0.16%</td>\n",
       "    </tr>\n",
       "    <tr>\n",
       "      <th>1</th>\n",
       "      <td>05/06/2024</td>\n",
       "      <td>38,847.9</td>\n",
       "      <td>38,722.5</td>\n",
       "      <td>38,880.0</td>\n",
       "      <td>38,689.3</td>\n",
       "      <td>NaN</td>\n",
       "      <td>0.30%</td>\n",
       "    </tr>\n",
       "    <tr>\n",
       "      <th>2</th>\n",
       "      <td>05/05/2024</td>\n",
       "      <td>38,730.2</td>\n",
       "      <td>38,757.5</td>\n",
       "      <td>38,765.0</td>\n",
       "      <td>38,717.5</td>\n",
       "      <td>NaN</td>\n",
       "      <td>0.06%</td>\n",
       "    </tr>\n",
       "    <tr>\n",
       "      <th>3</th>\n",
       "      <td>05/03/2024</td>\n",
       "      <td>38,706.4</td>\n",
       "      <td>38,457.4</td>\n",
       "      <td>38,804.0</td>\n",
       "      <td>38,423.1</td>\n",
       "      <td>NaN</td>\n",
       "      <td>0.65%</td>\n",
       "    </tr>\n",
       "    <tr>\n",
       "      <th>4</th>\n",
       "      <td>05/02/2024</td>\n",
       "      <td>38,457.9</td>\n",
       "      <td>38,026.5</td>\n",
       "      <td>38,531.7</td>\n",
       "      <td>37,879.2</td>\n",
       "      <td>NaN</td>\n",
       "      <td>1.17%</td>\n",
       "    </tr>\n",
       "  </tbody>\n",
       "</table>\n",
       "</div>"
      ],
      "text/plain": [
       "         Date     Price      Open      High       Low Vol. Change %\n",
       "0  05/07/2024  38,908.4  38,847.9  38,945.4  38,838.5  NaN    0.16%\n",
       "1  05/06/2024  38,847.9  38,722.5  38,880.0  38,689.3  NaN    0.30%\n",
       "2  05/05/2024  38,730.2  38,757.5  38,765.0  38,717.5  NaN    0.06%\n",
       "3  05/03/2024  38,706.4  38,457.4  38,804.0  38,423.1  NaN    0.65%\n",
       "4  05/02/2024  38,457.9  38,026.5  38,531.7  37,879.2  NaN    1.17%"
      ]
     },
     "execution_count": 41,
     "metadata": {},
     "output_type": "execute_result"
    }
   ],
   "source": [
    "us30.head()"
   ]
  },
  {
   "cell_type": "code",
   "execution_count": 42,
   "metadata": {},
   "outputs": [],
   "source": [
    "us30.drop(columns=['Vol.'], inplace=True)"
   ]
  },
  {
   "cell_type": "code",
   "execution_count": 43,
   "metadata": {},
   "outputs": [
    {
     "data": {
      "text/html": [
       "<div>\n",
       "<style scoped>\n",
       "    .dataframe tbody tr th:only-of-type {\n",
       "        vertical-align: middle;\n",
       "    }\n",
       "\n",
       "    .dataframe tbody tr th {\n",
       "        vertical-align: top;\n",
       "    }\n",
       "\n",
       "    .dataframe thead th {\n",
       "        text-align: right;\n",
       "    }\n",
       "</style>\n",
       "<table border=\"1\" class=\"dataframe\">\n",
       "  <thead>\n",
       "    <tr style=\"text-align: right;\">\n",
       "      <th></th>\n",
       "      <th>Date</th>\n",
       "      <th>Price</th>\n",
       "      <th>Open</th>\n",
       "      <th>High</th>\n",
       "      <th>Low</th>\n",
       "      <th>Change %</th>\n",
       "    </tr>\n",
       "  </thead>\n",
       "  <tbody>\n",
       "    <tr>\n",
       "      <th>count</th>\n",
       "      <td>2601</td>\n",
       "      <td>2601</td>\n",
       "      <td>2601</td>\n",
       "      <td>2601</td>\n",
       "      <td>2601</td>\n",
       "      <td>2601</td>\n",
       "    </tr>\n",
       "    <tr>\n",
       "      <th>unique</th>\n",
       "      <td>2601</td>\n",
       "      <td>2577</td>\n",
       "      <td>2581</td>\n",
       "      <td>2587</td>\n",
       "      <td>2573</td>\n",
       "      <td>471</td>\n",
       "    </tr>\n",
       "    <tr>\n",
       "      <th>top</th>\n",
       "      <td>05/07/2024</td>\n",
       "      <td>18,086.4</td>\n",
       "      <td>33,625.5</td>\n",
       "      <td>34,472.5</td>\n",
       "      <td>26,548.7</td>\n",
       "      <td>-0.10%</td>\n",
       "    </tr>\n",
       "    <tr>\n",
       "      <th>freq</th>\n",
       "      <td>1</td>\n",
       "      <td>2</td>\n",
       "      <td>2</td>\n",
       "      <td>2</td>\n",
       "      <td>2</td>\n",
       "      <td>27</td>\n",
       "    </tr>\n",
       "  </tbody>\n",
       "</table>\n",
       "</div>"
      ],
      "text/plain": [
       "              Date     Price      Open      High       Low Change %\n",
       "count         2601      2601      2601      2601      2601     2601\n",
       "unique        2601      2577      2581      2587      2573      471\n",
       "top     05/07/2024  18,086.4  33,625.5  34,472.5  26,548.7   -0.10%\n",
       "freq             1         2         2         2         2       27"
      ]
     },
     "execution_count": 43,
     "metadata": {},
     "output_type": "execute_result"
    }
   ],
   "source": [
    "us30.describe()"
   ]
  },
  {
   "cell_type": "code",
   "execution_count": 44,
   "metadata": {},
   "outputs": [],
   "source": [
    "us30.rename(columns={'Price': 'us30_price', 'Open':'us30_open', 'High':'us30_high', 'Low':'us30_low', 'Change %':'us30_change'}, inplace=True)"
   ]
  },
  {
   "cell_type": "code",
   "execution_count": 45,
   "metadata": {},
   "outputs": [
    {
     "data": {
      "text/plain": [
       "Date           0\n",
       "us30_price     0\n",
       "us30_open      0\n",
       "us30_high      0\n",
       "us30_low       0\n",
       "us30_change    0\n",
       "dtype: int64"
      ]
     },
     "execution_count": 45,
     "metadata": {},
     "output_type": "execute_result"
    }
   ],
   "source": [
    "us30.isna().sum()"
   ]
  },
  {
   "cell_type": "code",
   "execution_count": 46,
   "metadata": {},
   "outputs": [],
   "source": [
    "us30['Date'] = pd.to_datetime(us30['Date'], format='%m/%d/%Y')"
   ]
  },
  {
   "cell_type": "code",
   "execution_count": 47,
   "metadata": {},
   "outputs": [
    {
     "data": {
      "text/html": [
       "<div>\n",
       "<style scoped>\n",
       "    .dataframe tbody tr th:only-of-type {\n",
       "        vertical-align: middle;\n",
       "    }\n",
       "\n",
       "    .dataframe tbody tr th {\n",
       "        vertical-align: top;\n",
       "    }\n",
       "\n",
       "    .dataframe thead th {\n",
       "        text-align: right;\n",
       "    }\n",
       "</style>\n",
       "<table border=\"1\" class=\"dataframe\">\n",
       "  <thead>\n",
       "    <tr style=\"text-align: right;\">\n",
       "      <th></th>\n",
       "      <th>Date</th>\n",
       "      <th>us30_price</th>\n",
       "      <th>us30_open</th>\n",
       "      <th>us30_high</th>\n",
       "      <th>us30_low</th>\n",
       "      <th>us30_change</th>\n",
       "    </tr>\n",
       "  </thead>\n",
       "  <tbody>\n",
       "    <tr>\n",
       "      <th>0</th>\n",
       "      <td>2024-05-07</td>\n",
       "      <td>38,908.4</td>\n",
       "      <td>38,847.9</td>\n",
       "      <td>38,945.4</td>\n",
       "      <td>38,838.5</td>\n",
       "      <td>0.16%</td>\n",
       "    </tr>\n",
       "    <tr>\n",
       "      <th>1</th>\n",
       "      <td>2024-05-06</td>\n",
       "      <td>38,847.9</td>\n",
       "      <td>38,722.5</td>\n",
       "      <td>38,880.0</td>\n",
       "      <td>38,689.3</td>\n",
       "      <td>0.30%</td>\n",
       "    </tr>\n",
       "    <tr>\n",
       "      <th>2</th>\n",
       "      <td>2024-05-05</td>\n",
       "      <td>38,730.2</td>\n",
       "      <td>38,757.5</td>\n",
       "      <td>38,765.0</td>\n",
       "      <td>38,717.5</td>\n",
       "      <td>0.06%</td>\n",
       "    </tr>\n",
       "    <tr>\n",
       "      <th>3</th>\n",
       "      <td>2024-05-03</td>\n",
       "      <td>38,706.4</td>\n",
       "      <td>38,457.4</td>\n",
       "      <td>38,804.0</td>\n",
       "      <td>38,423.1</td>\n",
       "      <td>0.65%</td>\n",
       "    </tr>\n",
       "    <tr>\n",
       "      <th>4</th>\n",
       "      <td>2024-05-02</td>\n",
       "      <td>38,457.9</td>\n",
       "      <td>38,026.5</td>\n",
       "      <td>38,531.7</td>\n",
       "      <td>37,879.2</td>\n",
       "      <td>1.17%</td>\n",
       "    </tr>\n",
       "  </tbody>\n",
       "</table>\n",
       "</div>"
      ],
      "text/plain": [
       "        Date us30_price us30_open us30_high  us30_low us30_change\n",
       "0 2024-05-07   38,908.4  38,847.9  38,945.4  38,838.5       0.16%\n",
       "1 2024-05-06   38,847.9  38,722.5  38,880.0  38,689.3       0.30%\n",
       "2 2024-05-05   38,730.2  38,757.5  38,765.0  38,717.5       0.06%\n",
       "3 2024-05-03   38,706.4  38,457.4  38,804.0  38,423.1       0.65%\n",
       "4 2024-05-02   38,457.9  38,026.5  38,531.7  37,879.2       1.17%"
      ]
     },
     "execution_count": 47,
     "metadata": {},
     "output_type": "execute_result"
    }
   ],
   "source": [
    "us30.head()"
   ]
  },
  {
   "cell_type": "code",
   "execution_count": 48,
   "metadata": {},
   "outputs": [
    {
     "data": {
      "text/plain": [
       "Date           datetime64[ns]\n",
       "us30_price            float64\n",
       "us30_open             float64\n",
       "us30_high             float64\n",
       "us30_low              float64\n",
       "us30_change           float64\n",
       "dtype: object"
      ]
     },
     "execution_count": 48,
     "metadata": {},
     "output_type": "execute_result"
    }
   ],
   "source": [
    "us30['us30_change'] = us30['us30_change'].str.replace('%', '')\n",
    "\n",
    "cols = ['us30_price', 'us30_open', 'us30_high', 'us30_low']\n",
    "\n",
    "for i in range(len(cols)):\n",
    "    us30[cols[i]] = us30[cols[i]].str.replace(',', '')\n",
    "\n",
    "us30['us30_price'] = pd.to_numeric(us30['us30_price'], errors='coerce')\n",
    "us30['us30_open'] = pd.to_numeric(us30['us30_open'], errors='coerce')\n",
    "us30['us30_high'] = pd.to_numeric(us30['us30_high'], errors='coerce')\n",
    "us30['us30_low'] = pd.to_numeric(us30['us30_low'], errors='coerce')\n",
    "us30['us30_change'] = pd.to_numeric(us30['us30_change'], errors='coerce')\n",
    "us30.dtypes\n"
   ]
  },
  {
   "cell_type": "code",
   "execution_count": 49,
   "metadata": {},
   "outputs": [
    {
     "data": {
      "text/html": [
       "<div>\n",
       "<style scoped>\n",
       "    .dataframe tbody tr th:only-of-type {\n",
       "        vertical-align: middle;\n",
       "    }\n",
       "\n",
       "    .dataframe tbody tr th {\n",
       "        vertical-align: top;\n",
       "    }\n",
       "\n",
       "    .dataframe thead th {\n",
       "        text-align: right;\n",
       "    }\n",
       "</style>\n",
       "<table border=\"1\" class=\"dataframe\">\n",
       "  <thead>\n",
       "    <tr style=\"text-align: right;\">\n",
       "      <th></th>\n",
       "      <th>Date</th>\n",
       "      <th>us30_price</th>\n",
       "      <th>us30_open</th>\n",
       "      <th>us30_high</th>\n",
       "      <th>us30_low</th>\n",
       "      <th>us30_change</th>\n",
       "    </tr>\n",
       "  </thead>\n",
       "  <tbody>\n",
       "    <tr>\n",
       "      <th>0</th>\n",
       "      <td>2024-05-07</td>\n",
       "      <td>38908.4</td>\n",
       "      <td>38847.9</td>\n",
       "      <td>38945.4</td>\n",
       "      <td>38838.5</td>\n",
       "      <td>0.16</td>\n",
       "    </tr>\n",
       "    <tr>\n",
       "      <th>1</th>\n",
       "      <td>2024-05-06</td>\n",
       "      <td>38847.9</td>\n",
       "      <td>38722.5</td>\n",
       "      <td>38880.0</td>\n",
       "      <td>38689.3</td>\n",
       "      <td>0.30</td>\n",
       "    </tr>\n",
       "    <tr>\n",
       "      <th>2</th>\n",
       "      <td>2024-05-05</td>\n",
       "      <td>38730.2</td>\n",
       "      <td>38757.5</td>\n",
       "      <td>38765.0</td>\n",
       "      <td>38717.5</td>\n",
       "      <td>0.06</td>\n",
       "    </tr>\n",
       "    <tr>\n",
       "      <th>3</th>\n",
       "      <td>2024-05-03</td>\n",
       "      <td>38706.4</td>\n",
       "      <td>38457.4</td>\n",
       "      <td>38804.0</td>\n",
       "      <td>38423.1</td>\n",
       "      <td>0.65</td>\n",
       "    </tr>\n",
       "    <tr>\n",
       "      <th>4</th>\n",
       "      <td>2024-05-02</td>\n",
       "      <td>38457.9</td>\n",
       "      <td>38026.5</td>\n",
       "      <td>38531.7</td>\n",
       "      <td>37879.2</td>\n",
       "      <td>1.17</td>\n",
       "    </tr>\n",
       "  </tbody>\n",
       "</table>\n",
       "</div>"
      ],
      "text/plain": [
       "        Date  us30_price  us30_open  us30_high  us30_low  us30_change\n",
       "0 2024-05-07     38908.4    38847.9    38945.4   38838.5         0.16\n",
       "1 2024-05-06     38847.9    38722.5    38880.0   38689.3         0.30\n",
       "2 2024-05-05     38730.2    38757.5    38765.0   38717.5         0.06\n",
       "3 2024-05-03     38706.4    38457.4    38804.0   38423.1         0.65\n",
       "4 2024-05-02     38457.9    38026.5    38531.7   37879.2         1.17"
      ]
     },
     "execution_count": 49,
     "metadata": {},
     "output_type": "execute_result"
    }
   ],
   "source": [
    "us30.head()"
   ]
  },
  {
   "cell_type": "markdown",
   "metadata": {},
   "source": [
    "# USD Index"
   ]
  },
  {
   "cell_type": "code",
   "execution_count": 50,
   "metadata": {},
   "outputs": [],
   "source": [
    "usidx = pd.read_csv(\"../data/2015/usdindex.csv\")"
   ]
  },
  {
   "cell_type": "code",
   "execution_count": 51,
   "metadata": {},
   "outputs": [
    {
     "data": {
      "text/plain": [
       "Date         object\n",
       "Price       float64\n",
       "Open        float64\n",
       "High        float64\n",
       "Low         float64\n",
       "Vol.         object\n",
       "Change %     object\n",
       "dtype: object"
      ]
     },
     "execution_count": 51,
     "metadata": {},
     "output_type": "execute_result"
    }
   ],
   "source": [
    "usidx.dtypes"
   ]
  },
  {
   "cell_type": "code",
   "execution_count": 52,
   "metadata": {},
   "outputs": [
    {
     "data": {
      "text/plain": [
       "Date        0\n",
       "Price       0\n",
       "Open        0\n",
       "High        0\n",
       "Low         0\n",
       "Vol.        0\n",
       "Change %    0\n",
       "dtype: int64"
      ]
     },
     "execution_count": 52,
     "metadata": {},
     "output_type": "execute_result"
    }
   ],
   "source": [
    "usidx.isnull().sum()"
   ]
  },
  {
   "cell_type": "code",
   "execution_count": 53,
   "metadata": {},
   "outputs": [],
   "source": [
    "usidx.drop(columns=['Vol.'], inplace=True)"
   ]
  },
  {
   "cell_type": "code",
   "execution_count": 54,
   "metadata": {},
   "outputs": [
    {
     "data": {
      "text/html": [
       "<div>\n",
       "<style scoped>\n",
       "    .dataframe tbody tr th:only-of-type {\n",
       "        vertical-align: middle;\n",
       "    }\n",
       "\n",
       "    .dataframe tbody tr th {\n",
       "        vertical-align: top;\n",
       "    }\n",
       "\n",
       "    .dataframe thead th {\n",
       "        text-align: right;\n",
       "    }\n",
       "</style>\n",
       "<table border=\"1\" class=\"dataframe\">\n",
       "  <thead>\n",
       "    <tr style=\"text-align: right;\">\n",
       "      <th></th>\n",
       "      <th>Date</th>\n",
       "      <th>Price</th>\n",
       "      <th>Open</th>\n",
       "      <th>High</th>\n",
       "      <th>Low</th>\n",
       "      <th>Change %</th>\n",
       "    </tr>\n",
       "  </thead>\n",
       "  <tbody>\n",
       "    <tr>\n",
       "      <th>0</th>\n",
       "      <td>May 07, 2024</td>\n",
       "      <td>104.955</td>\n",
       "      <td>105.020</td>\n",
       "      <td>105.180</td>\n",
       "      <td>104.915</td>\n",
       "      <td>-0.00%</td>\n",
       "    </tr>\n",
       "    <tr>\n",
       "      <th>1</th>\n",
       "      <td>May 06, 2024</td>\n",
       "      <td>104.960</td>\n",
       "      <td>105.065</td>\n",
       "      <td>105.080</td>\n",
       "      <td>104.745</td>\n",
       "      <td>-0.10%</td>\n",
       "    </tr>\n",
       "    <tr>\n",
       "      <th>2</th>\n",
       "      <td>May 05, 2024</td>\n",
       "      <td>105.060</td>\n",
       "      <td>104.940</td>\n",
       "      <td>105.065</td>\n",
       "      <td>104.940</td>\n",
       "      <td>0.10%</td>\n",
       "    </tr>\n",
       "    <tr>\n",
       "      <th>3</th>\n",
       "      <td>May 03, 2024</td>\n",
       "      <td>104.960</td>\n",
       "      <td>105.180</td>\n",
       "      <td>105.250</td>\n",
       "      <td>104.410</td>\n",
       "      <td>-0.21%</td>\n",
       "    </tr>\n",
       "    <tr>\n",
       "      <th>4</th>\n",
       "      <td>May 02, 2024</td>\n",
       "      <td>105.178</td>\n",
       "      <td>105.590</td>\n",
       "      <td>105.785</td>\n",
       "      <td>105.170</td>\n",
       "      <td>-0.43%</td>\n",
       "    </tr>\n",
       "  </tbody>\n",
       "</table>\n",
       "</div>"
      ],
      "text/plain": [
       "           Date    Price     Open     High      Low Change %\n",
       "0  May 07, 2024  104.955  105.020  105.180  104.915   -0.00%\n",
       "1  May 06, 2024  104.960  105.065  105.080  104.745   -0.10%\n",
       "2  May 05, 2024  105.060  104.940  105.065  104.940    0.10%\n",
       "3  May 03, 2024  104.960  105.180  105.250  104.410   -0.21%\n",
       "4  May 02, 2024  105.178  105.590  105.785  105.170   -0.43%"
      ]
     },
     "execution_count": 54,
     "metadata": {},
     "output_type": "execute_result"
    }
   ],
   "source": [
    "usidx.head()"
   ]
  },
  {
   "cell_type": "code",
   "execution_count": 55,
   "metadata": {},
   "outputs": [],
   "source": [
    "usidx.rename(columns={'Price': 'usidx_price', 'Open':'usidx_open', 'High':'usidx_high', 'Low':'usidx_low', 'Change %':'usidx_change'}, inplace=True)"
   ]
  },
  {
   "cell_type": "code",
   "execution_count": 56,
   "metadata": {},
   "outputs": [],
   "source": [
    "usidx['Date'] = pd.to_datetime(usidx['Date'], format='%b %d, %Y')"
   ]
  },
  {
   "cell_type": "code",
   "execution_count": 57,
   "metadata": {},
   "outputs": [
    {
     "data": {
      "text/html": [
       "<div>\n",
       "<style scoped>\n",
       "    .dataframe tbody tr th:only-of-type {\n",
       "        vertical-align: middle;\n",
       "    }\n",
       "\n",
       "    .dataframe tbody tr th {\n",
       "        vertical-align: top;\n",
       "    }\n",
       "\n",
       "    .dataframe thead th {\n",
       "        text-align: right;\n",
       "    }\n",
       "</style>\n",
       "<table border=\"1\" class=\"dataframe\">\n",
       "  <thead>\n",
       "    <tr style=\"text-align: right;\">\n",
       "      <th></th>\n",
       "      <th>Date</th>\n",
       "      <th>usidx_price</th>\n",
       "      <th>usidx_open</th>\n",
       "      <th>usidx_high</th>\n",
       "      <th>usidx_low</th>\n",
       "      <th>usidx_change</th>\n",
       "    </tr>\n",
       "  </thead>\n",
       "  <tbody>\n",
       "    <tr>\n",
       "      <th>0</th>\n",
       "      <td>2024-05-07</td>\n",
       "      <td>104.955</td>\n",
       "      <td>105.020</td>\n",
       "      <td>105.180</td>\n",
       "      <td>104.915</td>\n",
       "      <td>-0.00%</td>\n",
       "    </tr>\n",
       "    <tr>\n",
       "      <th>1</th>\n",
       "      <td>2024-05-06</td>\n",
       "      <td>104.960</td>\n",
       "      <td>105.065</td>\n",
       "      <td>105.080</td>\n",
       "      <td>104.745</td>\n",
       "      <td>-0.10%</td>\n",
       "    </tr>\n",
       "    <tr>\n",
       "      <th>2</th>\n",
       "      <td>2024-05-05</td>\n",
       "      <td>105.060</td>\n",
       "      <td>104.940</td>\n",
       "      <td>105.065</td>\n",
       "      <td>104.940</td>\n",
       "      <td>0.10%</td>\n",
       "    </tr>\n",
       "    <tr>\n",
       "      <th>3</th>\n",
       "      <td>2024-05-03</td>\n",
       "      <td>104.960</td>\n",
       "      <td>105.180</td>\n",
       "      <td>105.250</td>\n",
       "      <td>104.410</td>\n",
       "      <td>-0.21%</td>\n",
       "    </tr>\n",
       "    <tr>\n",
       "      <th>4</th>\n",
       "      <td>2024-05-02</td>\n",
       "      <td>105.178</td>\n",
       "      <td>105.590</td>\n",
       "      <td>105.785</td>\n",
       "      <td>105.170</td>\n",
       "      <td>-0.43%</td>\n",
       "    </tr>\n",
       "  </tbody>\n",
       "</table>\n",
       "</div>"
      ],
      "text/plain": [
       "        Date  usidx_price  usidx_open  usidx_high  usidx_low usidx_change\n",
       "0 2024-05-07      104.955     105.020     105.180    104.915       -0.00%\n",
       "1 2024-05-06      104.960     105.065     105.080    104.745       -0.10%\n",
       "2 2024-05-05      105.060     104.940     105.065    104.940        0.10%\n",
       "3 2024-05-03      104.960     105.180     105.250    104.410       -0.21%\n",
       "4 2024-05-02      105.178     105.590     105.785    105.170       -0.43%"
      ]
     },
     "execution_count": 57,
     "metadata": {},
     "output_type": "execute_result"
    }
   ],
   "source": [
    "usidx.head()"
   ]
  },
  {
   "cell_type": "code",
   "execution_count": 58,
   "metadata": {},
   "outputs": [
    {
     "data": {
      "text/plain": [
       "Date            datetime64[ns]\n",
       "usidx_price            float64\n",
       "usidx_open             float64\n",
       "usidx_high             float64\n",
       "usidx_low              float64\n",
       "usidx_change           float64\n",
       "dtype: object"
      ]
     },
     "execution_count": 58,
     "metadata": {},
     "output_type": "execute_result"
    }
   ],
   "source": [
    "usidx['usidx_change'] = usidx['usidx_change'].str.replace('%', '')\n",
    "\n",
    "'''\n",
    "cols = ['usidx_price', 'usidx_open', 'usidx_high', 'usidx_low']\n",
    "\n",
    "for i in range(len(cols)):\n",
    "    usidx[cols[i]] = usidx[cols[i]].str.replace(',', '')\n",
    "'''\n",
    "\n",
    "usidx['usidx_price'] = pd.to_numeric(usidx['usidx_price'], errors='coerce')\n",
    "usidx['usidx_open'] = pd.to_numeric(usidx['usidx_open'], errors='coerce')\n",
    "usidx['usidx_high'] = pd.to_numeric(usidx['usidx_high'], errors='coerce')\n",
    "usidx['usidx_low'] = pd.to_numeric(usidx['usidx_low'], errors='coerce')\n",
    "usidx['usidx_change'] = pd.to_numeric(usidx['usidx_change'], errors='coerce')\n",
    "usidx.dtypes\n"
   ]
  },
  {
   "cell_type": "code",
   "execution_count": 59,
   "metadata": {},
   "outputs": [
    {
     "data": {
      "text/html": [
       "<div>\n",
       "<style scoped>\n",
       "    .dataframe tbody tr th:only-of-type {\n",
       "        vertical-align: middle;\n",
       "    }\n",
       "\n",
       "    .dataframe tbody tr th {\n",
       "        vertical-align: top;\n",
       "    }\n",
       "\n",
       "    .dataframe thead th {\n",
       "        text-align: right;\n",
       "    }\n",
       "</style>\n",
       "<table border=\"1\" class=\"dataframe\">\n",
       "  <thead>\n",
       "    <tr style=\"text-align: right;\">\n",
       "      <th></th>\n",
       "      <th>Date</th>\n",
       "      <th>usidx_price</th>\n",
       "      <th>usidx_open</th>\n",
       "      <th>usidx_high</th>\n",
       "      <th>usidx_low</th>\n",
       "      <th>usidx_change</th>\n",
       "    </tr>\n",
       "  </thead>\n",
       "  <tbody>\n",
       "    <tr>\n",
       "      <th>0</th>\n",
       "      <td>2024-05-07</td>\n",
       "      <td>104.955</td>\n",
       "      <td>105.020</td>\n",
       "      <td>105.180</td>\n",
       "      <td>104.915</td>\n",
       "      <td>-0.00</td>\n",
       "    </tr>\n",
       "    <tr>\n",
       "      <th>1</th>\n",
       "      <td>2024-05-06</td>\n",
       "      <td>104.960</td>\n",
       "      <td>105.065</td>\n",
       "      <td>105.080</td>\n",
       "      <td>104.745</td>\n",
       "      <td>-0.10</td>\n",
       "    </tr>\n",
       "    <tr>\n",
       "      <th>2</th>\n",
       "      <td>2024-05-05</td>\n",
       "      <td>105.060</td>\n",
       "      <td>104.940</td>\n",
       "      <td>105.065</td>\n",
       "      <td>104.940</td>\n",
       "      <td>0.10</td>\n",
       "    </tr>\n",
       "    <tr>\n",
       "      <th>3</th>\n",
       "      <td>2024-05-03</td>\n",
       "      <td>104.960</td>\n",
       "      <td>105.180</td>\n",
       "      <td>105.250</td>\n",
       "      <td>104.410</td>\n",
       "      <td>-0.21</td>\n",
       "    </tr>\n",
       "    <tr>\n",
       "      <th>4</th>\n",
       "      <td>2024-05-02</td>\n",
       "      <td>105.178</td>\n",
       "      <td>105.590</td>\n",
       "      <td>105.785</td>\n",
       "      <td>105.170</td>\n",
       "      <td>-0.43</td>\n",
       "    </tr>\n",
       "  </tbody>\n",
       "</table>\n",
       "</div>"
      ],
      "text/plain": [
       "        Date  usidx_price  usidx_open  usidx_high  usidx_low  usidx_change\n",
       "0 2024-05-07      104.955     105.020     105.180    104.915         -0.00\n",
       "1 2024-05-06      104.960     105.065     105.080    104.745         -0.10\n",
       "2 2024-05-05      105.060     104.940     105.065    104.940          0.10\n",
       "3 2024-05-03      104.960     105.180     105.250    104.410         -0.21\n",
       "4 2024-05-02      105.178     105.590     105.785    105.170         -0.43"
      ]
     },
     "execution_count": 59,
     "metadata": {},
     "output_type": "execute_result"
    }
   ],
   "source": [
    "usidx.head()"
   ]
  },
  {
   "cell_type": "markdown",
   "metadata": {},
   "source": [
    "# cleaning"
   ]
  },
  {
   "cell_type": "code",
   "execution_count": 60,
   "metadata": {},
   "outputs": [],
   "source": [
    "concatenated_df = pd.concat([btc.set_index('Date'),\n",
    "                             gold.set_index('Date'),\n",
    "                             sp.set_index('Date'),\n",
    "                             us30.set_index('Date'),\n",
    "                             usidx.set_index('Date')],\n",
    "                            axis=1, join='outer')"
   ]
  },
  {
   "cell_type": "code",
   "execution_count": 61,
   "metadata": {},
   "outputs": [],
   "source": [
    "concatenated_df = concatenated_df.reset_index()"
   ]
  },
  {
   "cell_type": "code",
   "execution_count": 62,
   "metadata": {},
   "outputs": [
    {
     "data": {
      "text/plain": [
       "(3414, 26)"
      ]
     },
     "execution_count": 62,
     "metadata": {},
     "output_type": "execute_result"
    }
   ],
   "source": [
    "concatenated_df.shape"
   ]
  },
  {
   "cell_type": "code",
   "execution_count": 63,
   "metadata": {},
   "outputs": [
    {
     "data": {
      "text/plain": [
       "Date               0\n",
       "btc_price          1\n",
       "btc_open           1\n",
       "btc_high           1\n",
       "btc_low            1\n",
       "btc_change         1\n",
       "gold_price       992\n",
       "gold_open        992\n",
       "gold_high        992\n",
       "gold_low         992\n",
       "gold_change      992\n",
       "sp_price        1063\n",
       "sp_open         1063\n",
       "sp_high         1063\n",
       "sp_low          1063\n",
       "sp_change       1063\n",
       "us30_price       813\n",
       "us30_open        813\n",
       "us30_high        813\n",
       "us30_low         813\n",
       "us30_change      813\n",
       "usidx_price      999\n",
       "usidx_open       999\n",
       "usidx_high       999\n",
       "usidx_low        999\n",
       "usidx_change     999\n",
       "dtype: int64"
      ]
     },
     "execution_count": 63,
     "metadata": {},
     "output_type": "execute_result"
    }
   ],
   "source": [
    "concatenated_df.isna().sum()"
   ]
  },
  {
   "cell_type": "code",
   "execution_count": 64,
   "metadata": {},
   "outputs": [
    {
     "data": {
      "text/html": [
       "<div>\n",
       "<style scoped>\n",
       "    .dataframe tbody tr th:only-of-type {\n",
       "        vertical-align: middle;\n",
       "    }\n",
       "\n",
       "    .dataframe tbody tr th {\n",
       "        vertical-align: top;\n",
       "    }\n",
       "\n",
       "    .dataframe thead th {\n",
       "        text-align: right;\n",
       "    }\n",
       "</style>\n",
       "<table border=\"1\" class=\"dataframe\">\n",
       "  <thead>\n",
       "    <tr style=\"text-align: right;\">\n",
       "      <th></th>\n",
       "      <th>Date</th>\n",
       "      <th>btc_price</th>\n",
       "      <th>btc_open</th>\n",
       "      <th>btc_high</th>\n",
       "      <th>btc_low</th>\n",
       "      <th>btc_change</th>\n",
       "      <th>gold_price</th>\n",
       "      <th>gold_open</th>\n",
       "      <th>gold_high</th>\n",
       "      <th>gold_low</th>\n",
       "      <th>...</th>\n",
       "      <th>us30_price</th>\n",
       "      <th>us30_open</th>\n",
       "      <th>us30_high</th>\n",
       "      <th>us30_low</th>\n",
       "      <th>us30_change</th>\n",
       "      <th>usidx_price</th>\n",
       "      <th>usidx_open</th>\n",
       "      <th>usidx_high</th>\n",
       "      <th>usidx_low</th>\n",
       "      <th>usidx_change</th>\n",
       "    </tr>\n",
       "  </thead>\n",
       "  <tbody>\n",
       "    <tr>\n",
       "      <th>0</th>\n",
       "      <td>2015-01-01</td>\n",
       "      <td>313.9</td>\n",
       "      <td>317.5</td>\n",
       "      <td>317.5</td>\n",
       "      <td>312.9</td>\n",
       "      <td>-0.99</td>\n",
       "      <td>NaN</td>\n",
       "      <td>NaN</td>\n",
       "      <td>NaN</td>\n",
       "      <td>NaN</td>\n",
       "      <td>...</td>\n",
       "      <td>17822.0</td>\n",
       "      <td>17757.0</td>\n",
       "      <td>17825.5</td>\n",
       "      <td>17757.0</td>\n",
       "      <td>-0.01</td>\n",
       "      <td>NaN</td>\n",
       "      <td>NaN</td>\n",
       "      <td>NaN</td>\n",
       "      <td>NaN</td>\n",
       "      <td>NaN</td>\n",
       "    </tr>\n",
       "    <tr>\n",
       "      <th>1</th>\n",
       "      <td>2015-01-02</td>\n",
       "      <td>315.1</td>\n",
       "      <td>313.6</td>\n",
       "      <td>316.0</td>\n",
       "      <td>313.0</td>\n",
       "      <td>0.40</td>\n",
       "      <td>1186.2</td>\n",
       "      <td>1184.0</td>\n",
       "      <td>1194.9</td>\n",
       "      <td>1167.3</td>\n",
       "      <td>...</td>\n",
       "      <td>17833.0</td>\n",
       "      <td>17823.1</td>\n",
       "      <td>17951.8</td>\n",
       "      <td>17731.3</td>\n",
       "      <td>0.06</td>\n",
       "      <td>91.383</td>\n",
       "      <td>90.81</td>\n",
       "      <td>91.49</td>\n",
       "      <td>90.80</td>\n",
       "      <td>0.81</td>\n",
       "    </tr>\n",
       "    <tr>\n",
       "      <th>2</th>\n",
       "      <td>2015-01-03</td>\n",
       "      <td>282.0</td>\n",
       "      <td>314.8</td>\n",
       "      <td>314.8</td>\n",
       "      <td>282.0</td>\n",
       "      <td>-10.51</td>\n",
       "      <td>NaN</td>\n",
       "      <td>NaN</td>\n",
       "      <td>NaN</td>\n",
       "      <td>NaN</td>\n",
       "      <td>...</td>\n",
       "      <td>NaN</td>\n",
       "      <td>NaN</td>\n",
       "      <td>NaN</td>\n",
       "      <td>NaN</td>\n",
       "      <td>NaN</td>\n",
       "      <td>NaN</td>\n",
       "      <td>NaN</td>\n",
       "      <td>NaN</td>\n",
       "      <td>NaN</td>\n",
       "      <td>NaN</td>\n",
       "    </tr>\n",
       "    <tr>\n",
       "      <th>3</th>\n",
       "      <td>2015-01-04</td>\n",
       "      <td>258.8</td>\n",
       "      <td>282.0</td>\n",
       "      <td>288.9</td>\n",
       "      <td>258.8</td>\n",
       "      <td>-8.23</td>\n",
       "      <td>NaN</td>\n",
       "      <td>NaN</td>\n",
       "      <td>NaN</td>\n",
       "      <td>NaN</td>\n",
       "      <td>...</td>\n",
       "      <td>NaN</td>\n",
       "      <td>NaN</td>\n",
       "      <td>NaN</td>\n",
       "      <td>NaN</td>\n",
       "      <td>NaN</td>\n",
       "      <td>NaN</td>\n",
       "      <td>NaN</td>\n",
       "      <td>NaN</td>\n",
       "      <td>NaN</td>\n",
       "      <td>NaN</td>\n",
       "    </tr>\n",
       "    <tr>\n",
       "      <th>4</th>\n",
       "      <td>2015-01-05</td>\n",
       "      <td>273.2</td>\n",
       "      <td>261.0</td>\n",
       "      <td>276.5</td>\n",
       "      <td>260.5</td>\n",
       "      <td>5.57</td>\n",
       "      <td>1204.0</td>\n",
       "      <td>1187.8</td>\n",
       "      <td>1207.5</td>\n",
       "      <td>1177.8</td>\n",
       "      <td>...</td>\n",
       "      <td>17501.7</td>\n",
       "      <td>17821.3</td>\n",
       "      <td>17821.3</td>\n",
       "      <td>17475.9</td>\n",
       "      <td>-1.86</td>\n",
       "      <td>91.622</td>\n",
       "      <td>91.73</td>\n",
       "      <td>92.05</td>\n",
       "      <td>91.55</td>\n",
       "      <td>0.26</td>\n",
       "    </tr>\n",
       "  </tbody>\n",
       "</table>\n",
       "<p>5 rows × 26 columns</p>\n",
       "</div>"
      ],
      "text/plain": [
       "        Date  btc_price  btc_open  btc_high  btc_low  btc_change  gold_price  \\\n",
       "0 2015-01-01      313.9     317.5     317.5    312.9       -0.99         NaN   \n",
       "1 2015-01-02      315.1     313.6     316.0    313.0        0.40      1186.2   \n",
       "2 2015-01-03      282.0     314.8     314.8    282.0      -10.51         NaN   \n",
       "3 2015-01-04      258.8     282.0     288.9    258.8       -8.23         NaN   \n",
       "4 2015-01-05      273.2     261.0     276.5    260.5        5.57      1204.0   \n",
       "\n",
       "   gold_open  gold_high  gold_low  ...  us30_price  us30_open  us30_high  \\\n",
       "0        NaN        NaN       NaN  ...     17822.0    17757.0    17825.5   \n",
       "1     1184.0     1194.9    1167.3  ...     17833.0    17823.1    17951.8   \n",
       "2        NaN        NaN       NaN  ...         NaN        NaN        NaN   \n",
       "3        NaN        NaN       NaN  ...         NaN        NaN        NaN   \n",
       "4     1187.8     1207.5    1177.8  ...     17501.7    17821.3    17821.3   \n",
       "\n",
       "   us30_low  us30_change  usidx_price  usidx_open  usidx_high  usidx_low  \\\n",
       "0   17757.0        -0.01          NaN         NaN         NaN        NaN   \n",
       "1   17731.3         0.06       91.383       90.81       91.49      90.80   \n",
       "2       NaN          NaN          NaN         NaN         NaN        NaN   \n",
       "3       NaN          NaN          NaN         NaN         NaN        NaN   \n",
       "4   17475.9        -1.86       91.622       91.73       92.05      91.55   \n",
       "\n",
       "   usidx_change  \n",
       "0           NaN  \n",
       "1          0.81  \n",
       "2           NaN  \n",
       "3           NaN  \n",
       "4          0.26  \n",
       "\n",
       "[5 rows x 26 columns]"
      ]
     },
     "execution_count": 64,
     "metadata": {},
     "output_type": "execute_result"
    }
   ],
   "source": [
    "concatenated_df.head()"
   ]
  },
  {
   "cell_type": "code",
   "execution_count": 65,
   "metadata": {},
   "outputs": [],
   "source": [
    "df_filled_forward = concatenated_df.fillna(method='ffill')"
   ]
  },
  {
   "cell_type": "code",
   "execution_count": 66,
   "metadata": {},
   "outputs": [],
   "source": [
    "df_filled = df_filled_forward.fillna(method='bfill')"
   ]
  },
  {
   "cell_type": "code",
   "execution_count": 67,
   "metadata": {},
   "outputs": [
    {
     "data": {
      "text/plain": [
       "Date            0\n",
       "btc_price       0\n",
       "btc_open        0\n",
       "btc_high        0\n",
       "btc_low         0\n",
       "btc_change      0\n",
       "gold_price      0\n",
       "gold_open       0\n",
       "gold_high       0\n",
       "gold_low        0\n",
       "gold_change     0\n",
       "sp_price        0\n",
       "sp_open         0\n",
       "sp_high         0\n",
       "sp_low          0\n",
       "sp_change       0\n",
       "us30_price      0\n",
       "us30_open       0\n",
       "us30_high       0\n",
       "us30_low        0\n",
       "us30_change     0\n",
       "usidx_price     0\n",
       "usidx_open      0\n",
       "usidx_high      0\n",
       "usidx_low       0\n",
       "usidx_change    0\n",
       "dtype: int64"
      ]
     },
     "execution_count": 67,
     "metadata": {},
     "output_type": "execute_result"
    }
   ],
   "source": [
    "df_filled.isna().sum()"
   ]
  },
  {
   "cell_type": "code",
   "execution_count": 68,
   "metadata": {},
   "outputs": [
    {
     "data": {
      "text/html": [
       "<div>\n",
       "<style scoped>\n",
       "    .dataframe tbody tr th:only-of-type {\n",
       "        vertical-align: middle;\n",
       "    }\n",
       "\n",
       "    .dataframe tbody tr th {\n",
       "        vertical-align: top;\n",
       "    }\n",
       "\n",
       "    .dataframe thead th {\n",
       "        text-align: right;\n",
       "    }\n",
       "</style>\n",
       "<table border=\"1\" class=\"dataframe\">\n",
       "  <thead>\n",
       "    <tr style=\"text-align: right;\">\n",
       "      <th></th>\n",
       "      <th>Date</th>\n",
       "      <th>btc_price</th>\n",
       "      <th>btc_open</th>\n",
       "      <th>btc_high</th>\n",
       "      <th>btc_low</th>\n",
       "      <th>btc_change</th>\n",
       "      <th>gold_price</th>\n",
       "      <th>gold_open</th>\n",
       "      <th>gold_high</th>\n",
       "      <th>gold_low</th>\n",
       "      <th>...</th>\n",
       "      <th>us30_price</th>\n",
       "      <th>us30_open</th>\n",
       "      <th>us30_high</th>\n",
       "      <th>us30_low</th>\n",
       "      <th>us30_change</th>\n",
       "      <th>usidx_price</th>\n",
       "      <th>usidx_open</th>\n",
       "      <th>usidx_high</th>\n",
       "      <th>usidx_low</th>\n",
       "      <th>usidx_change</th>\n",
       "    </tr>\n",
       "  </thead>\n",
       "  <tbody>\n",
       "    <tr>\n",
       "      <th>0</th>\n",
       "      <td>2015-01-01</td>\n",
       "      <td>313.9</td>\n",
       "      <td>317.5</td>\n",
       "      <td>317.5</td>\n",
       "      <td>312.9</td>\n",
       "      <td>-0.99</td>\n",
       "      <td>1186.2</td>\n",
       "      <td>1184.0</td>\n",
       "      <td>1194.9</td>\n",
       "      <td>1167.3</td>\n",
       "      <td>...</td>\n",
       "      <td>17822.0</td>\n",
       "      <td>17757.0</td>\n",
       "      <td>17825.5</td>\n",
       "      <td>17757.0</td>\n",
       "      <td>-0.01</td>\n",
       "      <td>91.383</td>\n",
       "      <td>90.81</td>\n",
       "      <td>91.49</td>\n",
       "      <td>90.80</td>\n",
       "      <td>0.81</td>\n",
       "    </tr>\n",
       "    <tr>\n",
       "      <th>1</th>\n",
       "      <td>2015-01-02</td>\n",
       "      <td>315.1</td>\n",
       "      <td>313.6</td>\n",
       "      <td>316.0</td>\n",
       "      <td>313.0</td>\n",
       "      <td>0.40</td>\n",
       "      <td>1186.2</td>\n",
       "      <td>1184.0</td>\n",
       "      <td>1194.9</td>\n",
       "      <td>1167.3</td>\n",
       "      <td>...</td>\n",
       "      <td>17833.0</td>\n",
       "      <td>17823.1</td>\n",
       "      <td>17951.8</td>\n",
       "      <td>17731.3</td>\n",
       "      <td>0.06</td>\n",
       "      <td>91.383</td>\n",
       "      <td>90.81</td>\n",
       "      <td>91.49</td>\n",
       "      <td>90.80</td>\n",
       "      <td>0.81</td>\n",
       "    </tr>\n",
       "    <tr>\n",
       "      <th>2</th>\n",
       "      <td>2015-01-03</td>\n",
       "      <td>282.0</td>\n",
       "      <td>314.8</td>\n",
       "      <td>314.8</td>\n",
       "      <td>282.0</td>\n",
       "      <td>-10.51</td>\n",
       "      <td>1186.2</td>\n",
       "      <td>1184.0</td>\n",
       "      <td>1194.9</td>\n",
       "      <td>1167.3</td>\n",
       "      <td>...</td>\n",
       "      <td>17833.0</td>\n",
       "      <td>17823.1</td>\n",
       "      <td>17951.8</td>\n",
       "      <td>17731.3</td>\n",
       "      <td>0.06</td>\n",
       "      <td>91.383</td>\n",
       "      <td>90.81</td>\n",
       "      <td>91.49</td>\n",
       "      <td>90.80</td>\n",
       "      <td>0.81</td>\n",
       "    </tr>\n",
       "    <tr>\n",
       "      <th>3</th>\n",
       "      <td>2015-01-04</td>\n",
       "      <td>258.8</td>\n",
       "      <td>282.0</td>\n",
       "      <td>288.9</td>\n",
       "      <td>258.8</td>\n",
       "      <td>-8.23</td>\n",
       "      <td>1186.2</td>\n",
       "      <td>1184.0</td>\n",
       "      <td>1194.9</td>\n",
       "      <td>1167.3</td>\n",
       "      <td>...</td>\n",
       "      <td>17833.0</td>\n",
       "      <td>17823.1</td>\n",
       "      <td>17951.8</td>\n",
       "      <td>17731.3</td>\n",
       "      <td>0.06</td>\n",
       "      <td>91.383</td>\n",
       "      <td>90.81</td>\n",
       "      <td>91.49</td>\n",
       "      <td>90.80</td>\n",
       "      <td>0.81</td>\n",
       "    </tr>\n",
       "    <tr>\n",
       "      <th>4</th>\n",
       "      <td>2015-01-05</td>\n",
       "      <td>273.2</td>\n",
       "      <td>261.0</td>\n",
       "      <td>276.5</td>\n",
       "      <td>260.5</td>\n",
       "      <td>5.57</td>\n",
       "      <td>1204.0</td>\n",
       "      <td>1187.8</td>\n",
       "      <td>1207.5</td>\n",
       "      <td>1177.8</td>\n",
       "      <td>...</td>\n",
       "      <td>17501.7</td>\n",
       "      <td>17821.3</td>\n",
       "      <td>17821.3</td>\n",
       "      <td>17475.9</td>\n",
       "      <td>-1.86</td>\n",
       "      <td>91.622</td>\n",
       "      <td>91.73</td>\n",
       "      <td>92.05</td>\n",
       "      <td>91.55</td>\n",
       "      <td>0.26</td>\n",
       "    </tr>\n",
       "  </tbody>\n",
       "</table>\n",
       "<p>5 rows × 26 columns</p>\n",
       "</div>"
      ],
      "text/plain": [
       "        Date  btc_price  btc_open  btc_high  btc_low  btc_change  gold_price  \\\n",
       "0 2015-01-01      313.9     317.5     317.5    312.9       -0.99      1186.2   \n",
       "1 2015-01-02      315.1     313.6     316.0    313.0        0.40      1186.2   \n",
       "2 2015-01-03      282.0     314.8     314.8    282.0      -10.51      1186.2   \n",
       "3 2015-01-04      258.8     282.0     288.9    258.8       -8.23      1186.2   \n",
       "4 2015-01-05      273.2     261.0     276.5    260.5        5.57      1204.0   \n",
       "\n",
       "   gold_open  gold_high  gold_low  ...  us30_price  us30_open  us30_high  \\\n",
       "0     1184.0     1194.9    1167.3  ...     17822.0    17757.0    17825.5   \n",
       "1     1184.0     1194.9    1167.3  ...     17833.0    17823.1    17951.8   \n",
       "2     1184.0     1194.9    1167.3  ...     17833.0    17823.1    17951.8   \n",
       "3     1184.0     1194.9    1167.3  ...     17833.0    17823.1    17951.8   \n",
       "4     1187.8     1207.5    1177.8  ...     17501.7    17821.3    17821.3   \n",
       "\n",
       "   us30_low  us30_change  usidx_price  usidx_open  usidx_high  usidx_low  \\\n",
       "0   17757.0        -0.01       91.383       90.81       91.49      90.80   \n",
       "1   17731.3         0.06       91.383       90.81       91.49      90.80   \n",
       "2   17731.3         0.06       91.383       90.81       91.49      90.80   \n",
       "3   17731.3         0.06       91.383       90.81       91.49      90.80   \n",
       "4   17475.9        -1.86       91.622       91.73       92.05      91.55   \n",
       "\n",
       "   usidx_change  \n",
       "0          0.81  \n",
       "1          0.81  \n",
       "2          0.81  \n",
       "3          0.81  \n",
       "4          0.26  \n",
       "\n",
       "[5 rows x 26 columns]"
      ]
     },
     "execution_count": 68,
     "metadata": {},
     "output_type": "execute_result"
    }
   ],
   "source": [
    "df_filled.head()"
   ]
  },
  {
   "cell_type": "code",
   "execution_count": null,
   "metadata": {},
   "outputs": [],
   "source": []
  },
  {
   "cell_type": "code",
   "execution_count": null,
   "metadata": {},
   "outputs": [],
   "source": []
  },
  {
   "cell_type": "code",
   "execution_count": null,
   "metadata": {},
   "outputs": [],
   "source": []
  },
  {
   "cell_type": "code",
   "execution_count": 72,
   "metadata": {},
   "outputs": [],
   "source": [
    "df_filled.to_csv('../data/processed_data.csv', index=False)"
   ]
  },
  {
   "cell_type": "code",
   "execution_count": null,
   "metadata": {},
   "outputs": [],
   "source": []
  }
 ],
 "metadata": {
  "kernelspec": {
   "display_name": "Python 3",
   "language": "python",
   "name": "python3"
  },
  "language_info": {
   "codemirror_mode": {
    "name": "ipython",
    "version": 3
   },
   "file_extension": ".py",
   "mimetype": "text/x-python",
   "name": "python",
   "nbconvert_exporter": "python",
   "pygments_lexer": "ipython3",
   "version": "3.10.0"
  }
 },
 "nbformat": 4,
 "nbformat_minor": 2
}
